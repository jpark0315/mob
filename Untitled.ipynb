{
 "cells": [
  {
   "cell_type": "code",
   "execution_count": 20,
   "metadata": {},
   "outputs": [],
   "source": [
    "from sklearn.datasets import make_regression\n",
    "%run net\n",
    "np.set_printoptions(suppress = True)"
   ]
  },
  {
   "cell_type": "code",
   "execution_count": 2,
   "metadata": {},
   "outputs": [],
   "source": [
    "forward_model = ForwardModel(5)\n",
    "com = ConservativeObjectiveModel(forward_model)\n",
    "coms = [ConservativeObjectiveModel(ForwardModel(5)) for i in range(2)]\n",
    "true_forward_model = ForwardModel(5)\n",
    "true_com = ConservativeObjectiveModel(true_forward_model)"
   ]
  },
  {
   "cell_type": "code",
   "execution_count": 3,
   "metadata": {},
   "outputs": [],
   "source": [
    "x,y = make_regression(n_samples = 100000, n_features = 5)\n",
    "idx = np.argsort(y)\n",
    "x,y = x[idx], y[idx]\n",
    "\n",
    "train_idx = np.random.permutation(int(len(x)*0.8))[:1000]\n",
    "train_x, train_y = x[:int(len(x)*0.8)][train_idx], y[:int(len(y)*0.8)][train_idx]\n",
    "#test_x, test_y = x[int(len(x)*0.8):], y[int(len(y)*0.8):]\n",
    "\n"
   ]
  },
  {
   "cell_type": "code",
   "execution_count": 4,
   "metadata": {
    "scrolled": true
   },
   "outputs": [
    {
     "name": "stdout",
     "output_type": "stream",
     "text": [
      "{'mse': tensor(13811.4990, grad_fn=<MseLossBackward>), 'overestimation': tensor(0.0005), 'alpha': 5.0}\n",
      "{'mse': tensor(13257.0293, grad_fn=<MseLossBackward>), 'overestimation': tensor(0.1589), 'alpha': 5.0}\n",
      "{'mse': tensor(15094.2598, grad_fn=<MseLossBackward>), 'overestimation': tensor(0.7239), 'alpha': 5.0}\n",
      "{'mse': tensor(13589.7812, grad_fn=<MseLossBackward>), 'overestimation': tensor(1.9239), 'alpha': 5.0}\n",
      "{'mse': tensor(9512.5039, grad_fn=<MseLossBackward>), 'overestimation': tensor(3.8955), 'alpha': 5.0}\n",
      "{'mse': tensor(10158.1875, grad_fn=<MseLossBackward>), 'overestimation': tensor(7.1048), 'alpha': 5.0}\n",
      "{'mse': tensor(8720.2891, grad_fn=<MseLossBackward>), 'overestimation': tensor(11.7017), 'alpha': 5.0}\n",
      "{'mse': tensor(8778.6973, grad_fn=<MseLossBackward>), 'overestimation': tensor(17.6969), 'alpha': 5.0}\n",
      "{'mse': tensor(5120.6050, grad_fn=<MseLossBackward>), 'overestimation': tensor(25.6461), 'alpha': 5.0}\n",
      "{'mse': tensor(5978.0903, grad_fn=<MseLossBackward>), 'overestimation': tensor(36.0568), 'alpha': 5.0}\n",
      "{'mse': tensor(8041.8369, grad_fn=<MseLossBackward>), 'overestimation': tensor(47.8430), 'alpha': 5.0}\n",
      "{'mse': tensor(5775.0566, grad_fn=<MseLossBackward>), 'overestimation': tensor(62.7677), 'alpha': 5.0}\n",
      "{'mse': tensor(4431.6255, grad_fn=<MseLossBackward>), 'overestimation': tensor(76.4365), 'alpha': 5.0}\n",
      "{'mse': tensor(6429.2954, grad_fn=<MseLossBackward>), 'overestimation': tensor(90.0709), 'alpha': 5.0}\n",
      "{'mse': tensor(3834.5732, grad_fn=<MseLossBackward>), 'overestimation': tensor(110.1468), 'alpha': 5.0}\n",
      "{'mse': tensor(4046.8430, grad_fn=<MseLossBackward>), 'overestimation': tensor(103.9036), 'alpha': 5.0}\n",
      "{'mse': tensor(2550.5913, grad_fn=<MseLossBackward>), 'overestimation': tensor(114.9008), 'alpha': 5.0}\n",
      "{'mse': tensor(2800.4297, grad_fn=<MseLossBackward>), 'overestimation': tensor(121.9267), 'alpha': 5.0}\n",
      "{'mse': tensor(1693.9099, grad_fn=<MseLossBackward>), 'overestimation': tensor(122.3973), 'alpha': 5.0}\n",
      "{'mse': tensor(943.8209, grad_fn=<MseLossBackward>), 'overestimation': tensor(125.8611), 'alpha': 5.0}\n",
      "{'mse': tensor(883.7036, grad_fn=<MseLossBackward>), 'overestimation': tensor(145.8608), 'alpha': 5.0}\n",
      "{'mse': tensor(420.7204, grad_fn=<MseLossBackward>), 'overestimation': tensor(148.9296), 'alpha': 5.0}\n",
      "{'mse': tensor(360.8551, grad_fn=<MseLossBackward>), 'overestimation': tensor(151.3611), 'alpha': 5.0}\n",
      "{'mse': tensor(190.6711, grad_fn=<MseLossBackward>), 'overestimation': tensor(160.5910), 'alpha': 5.0}\n",
      "{'mse': tensor(183.5959, grad_fn=<MseLossBackward>), 'overestimation': tensor(180.9448), 'alpha': 5.0}\n",
      "{'mse': tensor(159.6903, grad_fn=<MseLossBackward>), 'overestimation': tensor(191.7494), 'alpha': 5.0}\n",
      "{'mse': tensor(192.0935, grad_fn=<MseLossBackward>), 'overestimation': tensor(159.3964), 'alpha': 5.0}\n",
      "{'mse': tensor(318.5311, grad_fn=<MseLossBackward>), 'overestimation': tensor(194.9809), 'alpha': 5.0}\n",
      "{'mse': tensor(485.9424, grad_fn=<MseLossBackward>), 'overestimation': tensor(214.8144), 'alpha': 5.0}\n",
      "{'mse': tensor(417.9033, grad_fn=<MseLossBackward>), 'overestimation': tensor(189.8176), 'alpha': 5.0}\n",
      "{'mse': tensor(435.8739, grad_fn=<MseLossBackward>), 'overestimation': tensor(191.0776), 'alpha': 5.0}\n",
      "{'mse': tensor(492.7158, grad_fn=<MseLossBackward>), 'overestimation': tensor(186.0307), 'alpha': 5.0}\n",
      "{'mse': tensor(362.3917, grad_fn=<MseLossBackward>), 'overestimation': tensor(185.6363), 'alpha': 5.0}\n",
      "{'mse': tensor(419.5589, grad_fn=<MseLossBackward>), 'overestimation': tensor(184.3230), 'alpha': 5.0}\n",
      "{'mse': tensor(341.9966, grad_fn=<MseLossBackward>), 'overestimation': tensor(178.6828), 'alpha': 5.0}\n",
      "{'mse': tensor(327.4292, grad_fn=<MseLossBackward>), 'overestimation': tensor(171.4239), 'alpha': 5.0}\n",
      "{'mse': tensor(256.1115, grad_fn=<MseLossBackward>), 'overestimation': tensor(163.6025), 'alpha': 5.0}\n",
      "{'mse': tensor(315.0378, grad_fn=<MseLossBackward>), 'overestimation': tensor(140.1975), 'alpha': 5.0}\n",
      "{'mse': tensor(283.9759, grad_fn=<MseLossBackward>), 'overestimation': tensor(143.3080), 'alpha': 5.0}\n",
      "{'mse': tensor(241.0967, grad_fn=<MseLossBackward>), 'overestimation': tensor(128.7860), 'alpha': 5.0}\n",
      "{'mse': tensor(147.5627, grad_fn=<MseLossBackward>), 'overestimation': tensor(135.1191), 'alpha': 5.0}\n",
      "{'mse': tensor(191.2026, grad_fn=<MseLossBackward>), 'overestimation': tensor(108.2645), 'alpha': 5.0}\n",
      "{'mse': tensor(220.0735, grad_fn=<MseLossBackward>), 'overestimation': tensor(132.7703), 'alpha': 5.0}\n",
      "{'mse': tensor(191.8708, grad_fn=<MseLossBackward>), 'overestimation': tensor(140.7357), 'alpha': 5.0}\n",
      "{'mse': tensor(333.6110, grad_fn=<MseLossBackward>), 'overestimation': tensor(106.0132), 'alpha': 5.0}\n",
      "{'mse': tensor(297.6955, grad_fn=<MseLossBackward>), 'overestimation': tensor(103.7307), 'alpha': 5.0}\n",
      "{'mse': tensor(247.5872, grad_fn=<MseLossBackward>), 'overestimation': tensor(131.3617), 'alpha': 5.0}\n",
      "{'mse': tensor(244.1812, grad_fn=<MseLossBackward>), 'overestimation': tensor(120.6840), 'alpha': 5.0}\n",
      "{'mse': tensor(401.1189, grad_fn=<MseLossBackward>), 'overestimation': tensor(86.9869), 'alpha': 5.0}\n",
      "{'mse': tensor(273.5634, grad_fn=<MseLossBackward>), 'overestimation': tensor(96.3975), 'alpha': 5.0}\n",
      "{'mse': tensor(210.7529, grad_fn=<MseLossBackward>), 'overestimation': tensor(135.6696), 'alpha': 5.0}\n",
      "{'mse': tensor(338.0782, grad_fn=<MseLossBackward>), 'overestimation': tensor(111.0961), 'alpha': 5.0}\n",
      "{'mse': tensor(313.0249, grad_fn=<MseLossBackward>), 'overestimation': tensor(122.4810), 'alpha': 5.0}\n",
      "{'mse': tensor(59.4863, grad_fn=<MseLossBackward>), 'overestimation': tensor(138.5689), 'alpha': 5.0}\n",
      "{'mse': tensor(200.7124, grad_fn=<MseLossBackward>), 'overestimation': tensor(128.7055), 'alpha': 5.0}\n",
      "{'mse': tensor(222.5451, grad_fn=<MseLossBackward>), 'overestimation': tensor(126.7261), 'alpha': 5.0}\n",
      "{'mse': tensor(272.9861, grad_fn=<MseLossBackward>), 'overestimation': tensor(123.4863), 'alpha': 5.0}\n",
      "{'mse': tensor(175.9955, grad_fn=<MseLossBackward>), 'overestimation': tensor(132.4103), 'alpha': 5.0}\n",
      "{'mse': tensor(72.2610, grad_fn=<MseLossBackward>), 'overestimation': tensor(137.6695), 'alpha': 5.0}\n",
      "{'mse': tensor(194.7979, grad_fn=<MseLossBackward>), 'overestimation': tensor(130.8458), 'alpha': 5.0}\n",
      "{'mse': tensor(249.7236, grad_fn=<MseLossBackward>), 'overestimation': tensor(125.2550), 'alpha': 5.0}\n",
      "{'mse': tensor(221.8879, grad_fn=<MseLossBackward>), 'overestimation': tensor(114.8160), 'alpha': 5.0}\n",
      "{'mse': tensor(158.7473, grad_fn=<MseLossBackward>), 'overestimation': tensor(113.1877), 'alpha': 5.0}\n",
      "{'mse': tensor(171.1299, grad_fn=<MseLossBackward>), 'overestimation': tensor(143.6642), 'alpha': 5.0}\n",
      "{'mse': tensor(139.1349, grad_fn=<MseLossBackward>), 'overestimation': tensor(124.6945), 'alpha': 5.0}\n",
      "{'mse': tensor(142.5872, grad_fn=<MseLossBackward>), 'overestimation': tensor(126.3615), 'alpha': 5.0}\n",
      "{'mse': tensor(197.3372, grad_fn=<MseLossBackward>), 'overestimation': tensor(130.9723), 'alpha': 5.0}\n",
      "{'mse': tensor(82.3952, grad_fn=<MseLossBackward>), 'overestimation': tensor(155.0432), 'alpha': 5.0}\n",
      "{'mse': tensor(69.6838, grad_fn=<MseLossBackward>), 'overestimation': tensor(155.7263), 'alpha': 5.0}\n",
      "{'mse': tensor(135.3357, grad_fn=<MseLossBackward>), 'overestimation': tensor(149.7005), 'alpha': 5.0}\n",
      "{'mse': tensor(165.3002, grad_fn=<MseLossBackward>), 'overestimation': tensor(130.7522), 'alpha': 5.0}\n",
      "{'mse': tensor(100.8726, grad_fn=<MseLossBackward>), 'overestimation': tensor(143.9952), 'alpha': 5.0}\n",
      "{'mse': tensor(126.1012, grad_fn=<MseLossBackward>), 'overestimation': tensor(155.4296), 'alpha': 5.0}\n",
      "{'mse': tensor(130.1625, grad_fn=<MseLossBackward>), 'overestimation': tensor(159.3395), 'alpha': 5.0}\n",
      "{'mse': tensor(131.9491, grad_fn=<MseLossBackward>), 'overestimation': tensor(117.6223), 'alpha': 5.0}\n",
      "{'mse': tensor(89.2271, grad_fn=<MseLossBackward>), 'overestimation': tensor(131.9172), 'alpha': 5.0}\n",
      "{'mse': tensor(84.0738, grad_fn=<MseLossBackward>), 'overestimation': tensor(142.5692), 'alpha': 5.0}\n",
      "{'mse': tensor(109.2359, grad_fn=<MseLossBackward>), 'overestimation': tensor(149.6700), 'alpha': 5.0}\n",
      "{'mse': tensor(130.4183, grad_fn=<MseLossBackward>), 'overestimation': tensor(139.5378), 'alpha': 5.0}\n",
      "{'mse': tensor(90.8845, grad_fn=<MseLossBackward>), 'overestimation': tensor(147.8395), 'alpha': 5.0}\n"
     ]
    },
    {
     "name": "stdout",
     "output_type": "stream",
     "text": [
      "{'mse': tensor(125.7550, grad_fn=<MseLossBackward>), 'overestimation': tensor(125.0283), 'alpha': 5.0}\n",
      "{'mse': tensor(100.0279, grad_fn=<MseLossBackward>), 'overestimation': tensor(134.5456), 'alpha': 5.0}\n",
      "{'mse': tensor(108.9880, grad_fn=<MseLossBackward>), 'overestimation': tensor(129.1352), 'alpha': 5.0}\n",
      "{'mse': tensor(92.6905, grad_fn=<MseLossBackward>), 'overestimation': tensor(133.3332), 'alpha': 5.0}\n",
      "{'mse': tensor(84.2779, grad_fn=<MseLossBackward>), 'overestimation': tensor(150.0678), 'alpha': 5.0}\n",
      "{'mse': tensor(142.9551, grad_fn=<MseLossBackward>), 'overestimation': tensor(154.4950), 'alpha': 5.0}\n",
      "{'mse': tensor(99.1402, grad_fn=<MseLossBackward>), 'overestimation': tensor(137.6774), 'alpha': 5.0}\n",
      "{'mse': tensor(76.9305, grad_fn=<MseLossBackward>), 'overestimation': tensor(137.5677), 'alpha': 5.0}\n",
      "{'mse': tensor(81.4514, grad_fn=<MseLossBackward>), 'overestimation': tensor(108.1444), 'alpha': 5.0}\n",
      "{'mse': tensor(67.5103, grad_fn=<MseLossBackward>), 'overestimation': tensor(155.5837), 'alpha': 5.0}\n",
      "{'mse': tensor(121.0404, grad_fn=<MseLossBackward>), 'overestimation': tensor(146.8064), 'alpha': 5.0}\n",
      "{'mse': tensor(30.0596, grad_fn=<MseLossBackward>), 'overestimation': tensor(152.4675), 'alpha': 5.0}\n",
      "{'mse': tensor(75.9747, grad_fn=<MseLossBackward>), 'overestimation': tensor(145.6970), 'alpha': 5.0}\n",
      "{'mse': tensor(120.6777, grad_fn=<MseLossBackward>), 'overestimation': tensor(125.6556), 'alpha': 5.0}\n",
      "{'mse': tensor(83.2903, grad_fn=<MseLossBackward>), 'overestimation': tensor(134.2313), 'alpha': 5.0}\n",
      "{'mse': tensor(72.0161, grad_fn=<MseLossBackward>), 'overestimation': tensor(151.7031), 'alpha': 5.0}\n",
      "{'mse': tensor(145.4477, grad_fn=<MseLossBackward>), 'overestimation': tensor(140.3950), 'alpha': 5.0}\n",
      "{'mse': tensor(101.7440, grad_fn=<MseLossBackward>), 'overestimation': tensor(117.7261), 'alpha': 5.0}\n",
      "{'mse': tensor(139.7972, grad_fn=<MseLossBackward>), 'overestimation': tensor(135.7848), 'alpha': 5.0}\n",
      "{'mse': tensor(143.2778, grad_fn=<MseLossBackward>), 'overestimation': tensor(130.2374), 'alpha': 5.0}\n",
      "{'mse': tensor(19130.8125, grad_fn=<MseLossBackward>), 'overestimation': tensor(0.0003), 'alpha': 5.0}\n",
      "{'mse': tensor(11187.5605, grad_fn=<MseLossBackward>), 'overestimation': tensor(0.1659), 'alpha': 5.0}\n",
      "{'mse': tensor(15886.5498, grad_fn=<MseLossBackward>), 'overestimation': tensor(0.7531), 'alpha': 5.0}\n",
      "{'mse': tensor(10918.2344, grad_fn=<MseLossBackward>), 'overestimation': tensor(1.8412), 'alpha': 5.0}\n",
      "{'mse': tensor(10347.2871, grad_fn=<MseLossBackward>), 'overestimation': tensor(3.8495), 'alpha': 5.0}\n",
      "{'mse': tensor(8395.9805, grad_fn=<MseLossBackward>), 'overestimation': tensor(7.2200), 'alpha': 5.0}\n",
      "{'mse': tensor(11730.0771, grad_fn=<MseLossBackward>), 'overestimation': tensor(11.5883), 'alpha': 5.0}\n",
      "{'mse': tensor(8921.3516, grad_fn=<MseLossBackward>), 'overestimation': tensor(18.3314), 'alpha': 5.0}\n",
      "{'mse': tensor(7780.3223, grad_fn=<MseLossBackward>), 'overestimation': tensor(27.3742), 'alpha': 5.0}\n",
      "{'mse': tensor(7957.8096, grad_fn=<MseLossBackward>), 'overestimation': tensor(38.3916), 'alpha': 5.0}\n",
      "{'mse': tensor(4703.3765, grad_fn=<MseLossBackward>), 'overestimation': tensor(51.6424), 'alpha': 5.0}\n",
      "{'mse': tensor(6601.3452, grad_fn=<MseLossBackward>), 'overestimation': tensor(63.1431), 'alpha': 5.0}\n",
      "{'mse': tensor(4756.6289, grad_fn=<MseLossBackward>), 'overestimation': tensor(79.3108), 'alpha': 5.0}\n",
      "{'mse': tensor(3623.4810, grad_fn=<MseLossBackward>), 'overestimation': tensor(90.2391), 'alpha': 5.0}\n",
      "{'mse': tensor(2936.7312, grad_fn=<MseLossBackward>), 'overestimation': tensor(106.9881), 'alpha': 5.0}\n",
      "{'mse': tensor(3459.5957, grad_fn=<MseLossBackward>), 'overestimation': tensor(108.0459), 'alpha': 5.0}\n",
      "{'mse': tensor(2808.8540, grad_fn=<MseLossBackward>), 'overestimation': tensor(110.8195), 'alpha': 5.0}\n",
      "{'mse': tensor(1859.0931, grad_fn=<MseLossBackward>), 'overestimation': tensor(123.1444), 'alpha': 5.0}\n",
      "{'mse': tensor(1331.5166, grad_fn=<MseLossBackward>), 'overestimation': tensor(140.0738), 'alpha': 5.0}\n",
      "{'mse': tensor(1011.1675, grad_fn=<MseLossBackward>), 'overestimation': tensor(128.8187), 'alpha': 5.0}\n",
      "{'mse': tensor(808.0942, grad_fn=<MseLossBackward>), 'overestimation': tensor(152.3253), 'alpha': 5.0}\n",
      "{'mse': tensor(477.4332, grad_fn=<MseLossBackward>), 'overestimation': tensor(158.9910), 'alpha': 5.0}\n",
      "{'mse': tensor(287.7812, grad_fn=<MseLossBackward>), 'overestimation': tensor(168.9174), 'alpha': 5.0}\n",
      "{'mse': tensor(247.9962, grad_fn=<MseLossBackward>), 'overestimation': tensor(171.7531), 'alpha': 5.0}\n",
      "{'mse': tensor(144.2510, grad_fn=<MseLossBackward>), 'overestimation': tensor(190.3566), 'alpha': 5.0}\n",
      "{'mse': tensor(166.4705, grad_fn=<MseLossBackward>), 'overestimation': tensor(160.5836), 'alpha': 5.0}\n",
      "{'mse': tensor(81.8197, grad_fn=<MseLossBackward>), 'overestimation': tensor(186.1546), 'alpha': 5.0}\n",
      "{'mse': tensor(311.1893, grad_fn=<MseLossBackward>), 'overestimation': tensor(199.7366), 'alpha': 5.0}\n",
      "{'mse': tensor(402.4880, grad_fn=<MseLossBackward>), 'overestimation': tensor(223.3903), 'alpha': 5.0}\n",
      "{'mse': tensor(356.0033, grad_fn=<MseLossBackward>), 'overestimation': tensor(180.5098), 'alpha': 5.0}\n",
      "{'mse': tensor(451.8641, grad_fn=<MseLossBackward>), 'overestimation': tensor(205.6586), 'alpha': 5.0}\n",
      "{'mse': tensor(258.1891, grad_fn=<MseLossBackward>), 'overestimation': tensor(180.9790), 'alpha': 5.0}\n",
      "{'mse': tensor(424.2155, grad_fn=<MseLossBackward>), 'overestimation': tensor(209.7692), 'alpha': 5.0}\n",
      "{'mse': tensor(338.0214, grad_fn=<MseLossBackward>), 'overestimation': tensor(177.3549), 'alpha': 5.0}\n",
      "{'mse': tensor(339.5514, grad_fn=<MseLossBackward>), 'overestimation': tensor(160.5358), 'alpha': 5.0}\n",
      "{'mse': tensor(338.4071, grad_fn=<MseLossBackward>), 'overestimation': tensor(161.9799), 'alpha': 5.0}\n",
      "{'mse': tensor(302.3346, grad_fn=<MseLossBackward>), 'overestimation': tensor(143.8077), 'alpha': 5.0}\n",
      "{'mse': tensor(236.3002, grad_fn=<MseLossBackward>), 'overestimation': tensor(141.0566), 'alpha': 5.0}\n",
      "{'mse': tensor(191.0011, grad_fn=<MseLossBackward>), 'overestimation': tensor(129.1625), 'alpha': 5.0}\n",
      "{'mse': tensor(186.7212, grad_fn=<MseLossBackward>), 'overestimation': tensor(141.0662), 'alpha': 5.0}\n",
      "{'mse': tensor(255.9884, grad_fn=<MseLossBackward>), 'overestimation': tensor(137.1168), 'alpha': 5.0}\n",
      "{'mse': tensor(326.0983, grad_fn=<MseLossBackward>), 'overestimation': tensor(115.8075), 'alpha': 5.0}\n",
      "{'mse': tensor(357.1175, grad_fn=<MseLossBackward>), 'overestimation': tensor(113.3001), 'alpha': 5.0}\n",
      "{'mse': tensor(266.8998, grad_fn=<MseLossBackward>), 'overestimation': tensor(102.3922), 'alpha': 5.0}\n",
      "{'mse': tensor(164.8245, grad_fn=<MseLossBackward>), 'overestimation': tensor(129.1902), 'alpha': 5.0}\n",
      "{'mse': tensor(143.0587, grad_fn=<MseLossBackward>), 'overestimation': tensor(136.3628), 'alpha': 5.0}\n",
      "{'mse': tensor(331.5792, grad_fn=<MseLossBackward>), 'overestimation': tensor(135.7938), 'alpha': 5.0}\n",
      "{'mse': tensor(348.0779, grad_fn=<MseLossBackward>), 'overestimation': tensor(113.0890), 'alpha': 5.0}\n",
      "{'mse': tensor(394.1322, grad_fn=<MseLossBackward>), 'overestimation': tensor(121.4150), 'alpha': 5.0}\n",
      "{'mse': tensor(375.2765, grad_fn=<MseLossBackward>), 'overestimation': tensor(108.5276), 'alpha': 5.0}\n",
      "{'mse': tensor(339.1211, grad_fn=<MseLossBackward>), 'overestimation': tensor(96.7201), 'alpha': 5.0}\n",
      "{'mse': tensor(228.6477, grad_fn=<MseLossBackward>), 'overestimation': tensor(124.2309), 'alpha': 5.0}\n",
      "{'mse': tensor(403.7042, grad_fn=<MseLossBackward>), 'overestimation': tensor(117.5743), 'alpha': 5.0}\n",
      "{'mse': tensor(247.4489, grad_fn=<MseLossBackward>), 'overestimation': tensor(116.1034), 'alpha': 5.0}\n",
      "{'mse': tensor(476.7771, grad_fn=<MseLossBackward>), 'overestimation': tensor(104.9135), 'alpha': 5.0}\n",
      "{'mse': tensor(244.7678, grad_fn=<MseLossBackward>), 'overestimation': tensor(118.2850), 'alpha': 5.0}\n",
      "{'mse': tensor(115.2384, grad_fn=<MseLossBackward>), 'overestimation': tensor(136.8472), 'alpha': 5.0}\n",
      "{'mse': tensor(115.1910, grad_fn=<MseLossBackward>), 'overestimation': tensor(151.3091), 'alpha': 5.0}\n",
      "{'mse': tensor(91.7884, grad_fn=<MseLossBackward>), 'overestimation': tensor(141.0400), 'alpha': 5.0}\n",
      "{'mse': tensor(119.6414, grad_fn=<MseLossBackward>), 'overestimation': tensor(137.2742), 'alpha': 5.0}\n"
     ]
    },
    {
     "name": "stdout",
     "output_type": "stream",
     "text": [
      "{'mse': tensor(43.9992, grad_fn=<MseLossBackward>), 'overestimation': tensor(157.2818), 'alpha': 5.0}\n",
      "{'mse': tensor(172.9973, grad_fn=<MseLossBackward>), 'overestimation': tensor(143.6460), 'alpha': 5.0}\n",
      "{'mse': tensor(171.4760, grad_fn=<MseLossBackward>), 'overestimation': tensor(119.0635), 'alpha': 5.0}\n",
      "{'mse': tensor(97.3410, grad_fn=<MseLossBackward>), 'overestimation': tensor(167.6306), 'alpha': 5.0}\n",
      "{'mse': tensor(131.4411, grad_fn=<MseLossBackward>), 'overestimation': tensor(156.7178), 'alpha': 5.0}\n",
      "{'mse': tensor(121.9466, grad_fn=<MseLossBackward>), 'overestimation': tensor(138.9362), 'alpha': 5.0}\n",
      "{'mse': tensor(111.4333, grad_fn=<MseLossBackward>), 'overestimation': tensor(135.9208), 'alpha': 5.0}\n",
      "{'mse': tensor(84.6831, grad_fn=<MseLossBackward>), 'overestimation': tensor(135.7294), 'alpha': 5.0}\n",
      "{'mse': tensor(123.0343, grad_fn=<MseLossBackward>), 'overestimation': tensor(141.3659), 'alpha': 5.0}\n",
      "{'mse': tensor(77.4936, grad_fn=<MseLossBackward>), 'overestimation': tensor(146.5001), 'alpha': 5.0}\n",
      "{'mse': tensor(54.6950, grad_fn=<MseLossBackward>), 'overestimation': tensor(151.9538), 'alpha': 5.0}\n",
      "{'mse': tensor(103.0442, grad_fn=<MseLossBackward>), 'overestimation': tensor(163.6406), 'alpha': 5.0}\n",
      "{'mse': tensor(74.1628, grad_fn=<MseLossBackward>), 'overestimation': tensor(158.7111), 'alpha': 5.0}\n",
      "{'mse': tensor(51.3530, grad_fn=<MseLossBackward>), 'overestimation': tensor(131.6498), 'alpha': 5.0}\n",
      "{'mse': tensor(102.4539, grad_fn=<MseLossBackward>), 'overestimation': tensor(153.4198), 'alpha': 5.0}\n",
      "{'mse': tensor(70.6579, grad_fn=<MseLossBackward>), 'overestimation': tensor(152.9731), 'alpha': 5.0}\n",
      "{'mse': tensor(56.6257, grad_fn=<MseLossBackward>), 'overestimation': tensor(163.5023), 'alpha': 5.0}\n",
      "{'mse': tensor(78.7262, grad_fn=<MseLossBackward>), 'overestimation': tensor(164.7321), 'alpha': 5.0}\n",
      "{'mse': tensor(143.8339, grad_fn=<MseLossBackward>), 'overestimation': tensor(137.8698), 'alpha': 5.0}\n",
      "{'mse': tensor(160.1539, grad_fn=<MseLossBackward>), 'overestimation': tensor(133.6371), 'alpha': 5.0}\n",
      "{'mse': tensor(100.4504, grad_fn=<MseLossBackward>), 'overestimation': tensor(149.9180), 'alpha': 5.0}\n",
      "{'mse': tensor(211.1983, grad_fn=<MseLossBackward>), 'overestimation': tensor(130.0418), 'alpha': 5.0}\n",
      "{'mse': tensor(80.6350, grad_fn=<MseLossBackward>), 'overestimation': tensor(139.8169), 'alpha': 5.0}\n",
      "{'mse': tensor(45.1210, grad_fn=<MseLossBackward>), 'overestimation': tensor(148.4756), 'alpha': 5.0}\n",
      "{'mse': tensor(119.4370, grad_fn=<MseLossBackward>), 'overestimation': tensor(130.0292), 'alpha': 5.0}\n",
      "{'mse': tensor(153.7200, grad_fn=<MseLossBackward>), 'overestimation': tensor(152.2341), 'alpha': 5.0}\n",
      "{'mse': tensor(90.2096, grad_fn=<MseLossBackward>), 'overestimation': tensor(135.3163), 'alpha': 5.0}\n",
      "{'mse': tensor(102.4663, grad_fn=<MseLossBackward>), 'overestimation': tensor(135.1738), 'alpha': 5.0}\n",
      "{'mse': tensor(142.2321, grad_fn=<MseLossBackward>), 'overestimation': tensor(143.5407), 'alpha': 5.0}\n",
      "{'mse': tensor(91.6068, grad_fn=<MseLossBackward>), 'overestimation': tensor(133.3972), 'alpha': 5.0}\n",
      "{'mse': tensor(121.2131, grad_fn=<MseLossBackward>), 'overestimation': tensor(126.0752), 'alpha': 5.0}\n",
      "{'mse': tensor(84.5591, grad_fn=<MseLossBackward>), 'overestimation': tensor(135.6832), 'alpha': 5.0}\n",
      "{'mse': tensor(39.9092, grad_fn=<MseLossBackward>), 'overestimation': tensor(121.3470), 'alpha': 5.0}\n",
      "{'mse': tensor(88.9972, grad_fn=<MseLossBackward>), 'overestimation': tensor(132.4741), 'alpha': 5.0}\n",
      "{'mse': tensor(103.3446, grad_fn=<MseLossBackward>), 'overestimation': tensor(130.6722), 'alpha': 5.0}\n",
      "{'mse': tensor(44.6298, grad_fn=<MseLossBackward>), 'overestimation': tensor(167.9786), 'alpha': 5.0}\n",
      "{'mse': tensor(40.2308, grad_fn=<MseLossBackward>), 'overestimation': tensor(142.2856), 'alpha': 5.0}\n",
      "{'mse': tensor(77.0463, grad_fn=<MseLossBackward>), 'overestimation': tensor(131.0652), 'alpha': 5.0}\n",
      "{'mse': tensor(89.4798, grad_fn=<MseLossBackward>), 'overestimation': tensor(130.0276), 'alpha': 5.0}\n",
      "{'mse': tensor(137.4512, grad_fn=<MseLossBackward>), 'overestimation': tensor(112.1869), 'alpha': 5.0}\n"
     ]
    }
   ],
   "source": [
    "#com.train(train_x,train_y, include_overestimation = False)\n",
    "for com in coms:\n",
    "    com.train(train_x,train_y, include_overestimation = True )\n",
    "    "
   ]
  },
  {
   "cell_type": "code",
   "execution_count": 12,
   "metadata": {
    "scrolled": true
   },
   "outputs": [
    {
     "name": "stdout",
     "output_type": "stream",
     "text": [
      "{'mse': tensor(8411.3311, grad_fn=<MseLossBackward>)}\n",
      "{'mse': tensor(8708.4609, grad_fn=<MseLossBackward>)}\n",
      "{'mse': tensor(5360.7773, grad_fn=<MseLossBackward>)}\n",
      "{'mse': tensor(4238.8398, grad_fn=<MseLossBackward>)}\n",
      "{'mse': tensor(3090.3479, grad_fn=<MseLossBackward>)}\n",
      "{'mse': tensor(1571.4000, grad_fn=<MseLossBackward>)}\n",
      "{'mse': tensor(811.1038, grad_fn=<MseLossBackward>)}\n",
      "{'mse': tensor(512.4186, grad_fn=<MseLossBackward>)}\n",
      "{'mse': tensor(208.4014, grad_fn=<MseLossBackward>)}\n",
      "{'mse': tensor(254.7813, grad_fn=<MseLossBackward>)}\n",
      "{'mse': tensor(349.7548, grad_fn=<MseLossBackward>)}\n",
      "{'mse': tensor(531.2640, grad_fn=<MseLossBackward>)}\n",
      "{'mse': tensor(754.1043, grad_fn=<MseLossBackward>)}\n",
      "{'mse': tensor(835.5645, grad_fn=<MseLossBackward>)}\n",
      "{'mse': tensor(846.0358, grad_fn=<MseLossBackward>)}\n",
      "{'mse': tensor(1280.5077, grad_fn=<MseLossBackward>)}\n",
      "{'mse': tensor(941.1556, grad_fn=<MseLossBackward>)}\n",
      "{'mse': tensor(1483.1779, grad_fn=<MseLossBackward>)}\n",
      "{'mse': tensor(1839.9669, grad_fn=<MseLossBackward>)}\n",
      "{'mse': tensor(913.3575, grad_fn=<MseLossBackward>)}\n",
      "{'mse': tensor(779.6982, grad_fn=<MseLossBackward>)}\n",
      "{'mse': tensor(582.4185, grad_fn=<MseLossBackward>)}\n",
      "{'mse': tensor(359.0400, grad_fn=<MseLossBackward>)}\n",
      "{'mse': tensor(469.9728, grad_fn=<MseLossBackward>)}\n",
      "{'mse': tensor(539.7909, grad_fn=<MseLossBackward>)}\n",
      "{'mse': tensor(390.5116, grad_fn=<MseLossBackward>)}\n",
      "{'mse': tensor(172.8159, grad_fn=<MseLossBackward>)}\n",
      "{'mse': tensor(80.7598, grad_fn=<MseLossBackward>)}\n",
      "{'mse': tensor(39.2593, grad_fn=<MseLossBackward>)}\n",
      "{'mse': tensor(104.7700, grad_fn=<MseLossBackward>)}\n",
      "{'mse': tensor(119.2795, grad_fn=<MseLossBackward>)}\n",
      "{'mse': tensor(141.0770, grad_fn=<MseLossBackward>)}\n",
      "{'mse': tensor(85.6650, grad_fn=<MseLossBackward>)}\n",
      "{'mse': tensor(81.2918, grad_fn=<MseLossBackward>)}\n",
      "{'mse': tensor(63.5455, grad_fn=<MseLossBackward>)}\n",
      "{'mse': tensor(103.0466, grad_fn=<MseLossBackward>)}\n",
      "{'mse': tensor(131.1233, grad_fn=<MseLossBackward>)}\n",
      "{'mse': tensor(157.3114, grad_fn=<MseLossBackward>)}\n",
      "{'mse': tensor(157.5531, grad_fn=<MseLossBackward>)}\n",
      "{'mse': tensor(112.5046, grad_fn=<MseLossBackward>)}\n",
      "{'mse': tensor(118.0845, grad_fn=<MseLossBackward>)}\n",
      "{'mse': tensor(72.3536, grad_fn=<MseLossBackward>)}\n",
      "{'mse': tensor(89.3727, grad_fn=<MseLossBackward>)}\n",
      "{'mse': tensor(102.9936, grad_fn=<MseLossBackward>)}\n",
      "{'mse': tensor(133.8651, grad_fn=<MseLossBackward>)}\n",
      "{'mse': tensor(115.9824, grad_fn=<MseLossBackward>)}\n",
      "{'mse': tensor(54.0179, grad_fn=<MseLossBackward>)}\n",
      "{'mse': tensor(23.5384, grad_fn=<MseLossBackward>)}\n",
      "{'mse': tensor(37.9850, grad_fn=<MseLossBackward>)}\n",
      "{'mse': tensor(19.1273, grad_fn=<MseLossBackward>)}\n",
      "{'mse': tensor(37.6626, grad_fn=<MseLossBackward>)}\n",
      "{'mse': tensor(42.1596, grad_fn=<MseLossBackward>)}\n",
      "{'mse': tensor(25.7225, grad_fn=<MseLossBackward>)}\n",
      "{'mse': tensor(32.6569, grad_fn=<MseLossBackward>)}\n",
      "{'mse': tensor(4.5742, grad_fn=<MseLossBackward>)}\n",
      "{'mse': tensor(8.8194, grad_fn=<MseLossBackward>)}\n",
      "{'mse': tensor(21.3675, grad_fn=<MseLossBackward>)}\n",
      "{'mse': tensor(23.7767, grad_fn=<MseLossBackward>)}\n",
      "{'mse': tensor(32.1841, grad_fn=<MseLossBackward>)}\n",
      "{'mse': tensor(16.4241, grad_fn=<MseLossBackward>)}\n",
      "{'mse': tensor(17.6076, grad_fn=<MseLossBackward>)}\n",
      "{'mse': tensor(17.1003, grad_fn=<MseLossBackward>)}\n",
      "{'mse': tensor(20.9451, grad_fn=<MseLossBackward>)}\n",
      "{'mse': tensor(19.0485, grad_fn=<MseLossBackward>)}\n",
      "{'mse': tensor(21.3046, grad_fn=<MseLossBackward>)}\n",
      "{'mse': tensor(12.0290, grad_fn=<MseLossBackward>)}\n",
      "{'mse': tensor(14.9063, grad_fn=<MseLossBackward>)}\n",
      "{'mse': tensor(13.1464, grad_fn=<MseLossBackward>)}\n",
      "{'mse': tensor(7.8791, grad_fn=<MseLossBackward>)}\n",
      "{'mse': tensor(11.7497, grad_fn=<MseLossBackward>)}\n",
      "{'mse': tensor(8.7094, grad_fn=<MseLossBackward>)}\n",
      "{'mse': tensor(11.2847, grad_fn=<MseLossBackward>)}\n",
      "{'mse': tensor(6.9953, grad_fn=<MseLossBackward>)}\n",
      "{'mse': tensor(5.7229, grad_fn=<MseLossBackward>)}\n",
      "{'mse': tensor(22.1260, grad_fn=<MseLossBackward>)}\n",
      "{'mse': tensor(3.1820, grad_fn=<MseLossBackward>)}\n",
      "{'mse': tensor(11.2781, grad_fn=<MseLossBackward>)}\n",
      "{'mse': tensor(9.1786, grad_fn=<MseLossBackward>)}\n",
      "{'mse': tensor(8.4908, grad_fn=<MseLossBackward>)}\n",
      "{'mse': tensor(8.1501, grad_fn=<MseLossBackward>)}\n",
      "{'mse': tensor(8.1682, grad_fn=<MseLossBackward>)}\n",
      "{'mse': tensor(2.9051, grad_fn=<MseLossBackward>)}\n",
      "{'mse': tensor(4.9687, grad_fn=<MseLossBackward>)}\n",
      "{'mse': tensor(4.1739, grad_fn=<MseLossBackward>)}\n",
      "{'mse': tensor(5.6395, grad_fn=<MseLossBackward>)}\n",
      "{'mse': tensor(5.3601, grad_fn=<MseLossBackward>)}\n",
      "{'mse': tensor(4.7656, grad_fn=<MseLossBackward>)}\n",
      "{'mse': tensor(7.2975, grad_fn=<MseLossBackward>)}\n",
      "{'mse': tensor(7.1153, grad_fn=<MseLossBackward>)}\n",
      "{'mse': tensor(12.2345, grad_fn=<MseLossBackward>)}\n",
      "{'mse': tensor(4.3259, grad_fn=<MseLossBackward>)}\n",
      "{'mse': tensor(3.3396, grad_fn=<MseLossBackward>)}\n",
      "{'mse': tensor(2.1904, grad_fn=<MseLossBackward>)}\n",
      "{'mse': tensor(2.5439, grad_fn=<MseLossBackward>)}\n",
      "{'mse': tensor(14.0748, grad_fn=<MseLossBackward>)}\n",
      "{'mse': tensor(2.8401, grad_fn=<MseLossBackward>)}\n",
      "{'mse': tensor(7.7729, grad_fn=<MseLossBackward>)}\n",
      "{'mse': tensor(7.5143, grad_fn=<MseLossBackward>)}\n",
      "{'mse': tensor(3.2560, grad_fn=<MseLossBackward>)}\n",
      "{'mse': tensor(11.3759, grad_fn=<MseLossBackward>)}\n"
     ]
    }
   ],
   "source": [
    "true_com.train(x, y, include_overestimation = False)"
   ]
  },
  {
   "cell_type": "code",
   "execution_count": 19,
   "metadata": {},
   "outputs": [
    {
     "name": "stdout",
     "output_type": "stream",
     "text": [
      "[tensor([ 2.1595, -0.1679,  3.9132,  3.8092,  3.8093]), tensor([ 2.0713, -0.1533,  4.0643,  3.8530,  3.7236])] [-0.05991553 -0.14841122  0.8203992  -0.68216624  0.1253908 ]\n",
      "[[tensor([181.6629], grad_fn=<AddBackward0>), tensor([183.1831], grad_fn=<AddBackward0>)], [tensor([153.9680], grad_fn=<AddBackward0>), tensor([154.9157], grad_fn=<AddBackward0>)]]\n",
      "[tensor([3.0222], grad_fn=<AddBackward0>), tensor([4.9883], grad_fn=<AddBackward0>)]\n"
     ]
    }
   ],
   "source": [
    "#ok so what data should I create\n",
    "\n",
    "#optimized = com.optimize(torch.Tensor(train_x)[1], 5)\n",
    "data = train_x[np.random.randint(len(train_x))]\n",
    "data2 = x[np.random.randint(len(x))]\n",
    "optimizeds = [com.optimize(torch.Tensor(data), 1) for com in coms]\n",
    "optimizeds2 = [com.optimize(torch.Tensor(data2), 1) for com in coms]\n",
    "print(optimizeds,data )\n",
    "print([[com.forward_model(optimized) for optimized in optimizeds] for com in coms])\n",
    "print([com.forward_model(torch.Tensor(data)) for com in coms])\n"
   ]
  },
  {
   "cell_type": "code",
   "execution_count": 27,
   "metadata": {},
   "outputs": [
    {
     "data": {
      "text/plain": [
       "(tensor([1434.7371], grad_fn=<AddBackward0>),\n",
       " tensor([714.9909], grad_fn=<AddBackward0>),\n",
       " tensor([0.9485], grad_fn=<AddBackward0>))"
      ]
     },
     "execution_count": 27,
     "metadata": {},
     "output_type": "execute_result"
    }
   ],
   "source": [
    "#optimized.numpy(), train_x[1]\n",
    "\n",
    "true_com.forward_model(optimized), com.forward_model(optimized), com.forward_model(torch.Tensor(train_x[1]))\n"
   ]
  },
  {
   "cell_type": "code",
   "execution_count": 33,
   "metadata": {},
   "outputs": [
    {
     "data": {
      "text/plain": [
       "[tensor([0.8712, 4.1272, 8.7194, 3.3702, 3.4038]),\n",
       " tensor([0.3229, 3.5796, 8.2993, 3.1487, 3.2242]),\n",
       " tensor([0.6474, 4.1637, 8.8097, 2.7789, 3.4378]),\n",
       " tensor([0.8759, 3.9037, 8.3088, 3.3622, 3.9043]),\n",
       " tensor([0.8492, 4.1504, 8.1052, 3.5822, 3.4224])]"
      ]
     },
     "execution_count": 33,
     "metadata": {},
     "output_type": "execute_result"
    }
   ],
   "source": [
    "optimizeds"
   ]
  },
  {
   "cell_type": "code",
   "execution_count": 51,
   "metadata": {},
   "outputs": [
    {
     "data": {
      "text/plain": [
       "0.7043290252080892"
      ]
     },
     "execution_count": 51,
     "metadata": {},
     "output_type": "execute_result"
    }
   ],
   "source": [
    "np.random.sample()"
   ]
  },
  {
   "cell_type": "code",
   "execution_count": 16,
   "metadata": {},
   "outputs": [
    {
     "data": {
      "text/plain": [
       "tensor([7.0065e-45, 0.0000e+00, 0.0000e+00])"
      ]
     },
     "execution_count": 16,
     "metadata": {},
     "output_type": "execute_result"
    }
   ],
   "source": [
    "torch.clone(torch.Tensor(3))"
   ]
  },
  {
   "cell_type": "code",
   "execution_count": null,
   "metadata": {},
   "outputs": [],
   "source": [
    "torch.clone()"
   ]
  }
 ],
 "metadata": {
  "kernelspec": {
   "display_name": "Python 3",
   "language": "python",
   "name": "python3"
  },
  "language_info": {
   "codemirror_mode": {
    "name": "ipython",
    "version": 3
   },
   "file_extension": ".py",
   "mimetype": "text/x-python",
   "name": "python",
   "nbconvert_exporter": "python",
   "pygments_lexer": "ipython3",
   "version": "3.8.5"
  }
 },
 "nbformat": 4,
 "nbformat_minor": 4
}
