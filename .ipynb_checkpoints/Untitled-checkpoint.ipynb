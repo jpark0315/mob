{
 "cells": [
  {
   "cell_type": "code",
   "execution_count": 1,
   "metadata": {
    "scrolled": true
   },
   "outputs": [
    {
     "name": "stderr",
     "output_type": "stream",
     "text": [
      "Setting 'max_len_single_sentence' is now deprecated. This value is automatically set up.\n",
      "Setting 'max_len_sentences_pair' is now deprecated. This value is automatically set up.\n",
      "Setting 'max_len_single_sentence' is now deprecated. This value is automatically set up.\n",
      "Setting 'max_len_sentences_pair' is now deprecated. This value is automatically set up.\n",
      "Setting 'max_len_single_sentence' is now deprecated. This value is automatically set up.\n",
      "Setting 'max_len_sentences_pair' is now deprecated. This value is automatically set up.\n",
      "Setting 'max_len_single_sentence' is now deprecated. This value is automatically set up.\n",
      "Setting 'max_len_sentences_pair' is now deprecated. This value is automatically set up.\n",
      "Setting 'max_len_single_sentence' is now deprecated. This value is automatically set up.\n",
      "Setting 'max_len_sentences_pair' is now deprecated. This value is automatically set up.\n",
      "Setting 'max_len_single_sentence' is now deprecated. This value is automatically set up.\n",
      "Setting 'max_len_sentences_pair' is now deprecated. This value is automatically set up.\n",
      "Setting 'max_len_single_sentence' is now deprecated. This value is automatically set up.\n",
      "Setting 'max_len_sentences_pair' is now deprecated. This value is automatically set up.\n",
      "Setting 'max_len_single_sentence' is now deprecated. This value is automatically set up.\n",
      "Setting 'max_len_sentences_pair' is now deprecated. This value is automatically set up.\n",
      "Setting 'max_len_single_sentence' is now deprecated. This value is automatically set up.\n",
      "Setting 'max_len_sentences_pair' is now deprecated. This value is automatically set up.\n",
      "Setting 'max_len_single_sentence' is now deprecated. This value is automatically set up.\n",
      "Setting 'max_len_sentences_pair' is now deprecated. This value is automatically set up.\n",
      "Setting 'max_len_single_sentence' is now deprecated. This value is automatically set up.\n",
      "Setting 'max_len_sentences_pair' is now deprecated. This value is automatically set up.\n",
      "Setting 'max_len_single_sentence' is now deprecated. This value is automatically set up.\n",
      "Setting 'max_len_sentences_pair' is now deprecated. This value is automatically set up.\n",
      "Setting 'max_len_single_sentence' is now deprecated. This value is automatically set up.\n",
      "Setting 'max_len_sentences_pair' is now deprecated. This value is automatically set up.\n",
      "Setting 'max_len_single_sentence' is now deprecated. This value is automatically set up.\n",
      "Setting 'max_len_sentences_pair' is now deprecated. This value is automatically set up.\n",
      "Setting 'max_len_single_sentence' is now deprecated. This value is automatically set up.\n",
      "Setting 'max_len_sentences_pair' is now deprecated. This value is automatically set up.\n",
      "Setting 'max_len_single_sentence' is now deprecated. This value is automatically set up.\n",
      "Setting 'max_len_sentences_pair' is now deprecated. This value is automatically set up.\n",
      "Setting 'max_len_single_sentence' is now deprecated. This value is automatically set up.\n",
      "Setting 'max_len_sentences_pair' is now deprecated. This value is automatically set up.\n",
      "Setting 'max_len_single_sentence' is now deprecated. This value is automatically set up.\n",
      "Setting 'max_len_sentences_pair' is now deprecated. This value is automatically set up.\n",
      "Setting 'max_len_single_sentence' is now deprecated. This value is automatically set up.\n",
      "Setting 'max_len_sentences_pair' is now deprecated. This value is automatically set up.\n",
      "Setting 'max_len_single_sentence' is now deprecated. This value is automatically set up.\n",
      "Setting 'max_len_sentences_pair' is now deprecated. This value is automatically set up.\n",
      "Setting 'max_len_single_sentence' is now deprecated. This value is automatically set up.\n",
      "Setting 'max_len_sentences_pair' is now deprecated. This value is automatically set up.\n",
      "Setting 'max_len_single_sentence' is now deprecated. This value is automatically set up.\n",
      "Setting 'max_len_sentences_pair' is now deprecated. This value is automatically set up.\n",
      "Setting 'max_len_single_sentence' is now deprecated. This value is automatically set up.\n",
      "Setting 'max_len_sentences_pair' is now deprecated. This value is automatically set up.\n",
      "Setting 'max_len_single_sentence' is now deprecated. This value is automatically set up.\n",
      "Setting 'max_len_sentences_pair' is now deprecated. This value is automatically set up.\n",
      "Setting 'max_len_single_sentence' is now deprecated. This value is automatically set up.\n",
      "Setting 'max_len_sentences_pair' is now deprecated. This value is automatically set up.\n",
      "Setting 'max_len_single_sentence' is now deprecated. This value is automatically set up.\n",
      "Setting 'max_len_sentences_pair' is now deprecated. This value is automatically set up.\n",
      "Setting 'max_len_single_sentence' is now deprecated. This value is automatically set up.\n",
      "Setting 'max_len_sentences_pair' is now deprecated. This value is automatically set up.\n",
      "Setting 'max_len_single_sentence' is now deprecated. This value is automatically set up.\n",
      "Setting 'max_len_sentences_pair' is now deprecated. This value is automatically set up.\n",
      "Setting 'max_len_single_sentence' is now deprecated. This value is automatically set up.\n",
      "Setting 'max_len_sentences_pair' is now deprecated. This value is automatically set up.\n",
      "Setting 'max_len_single_sentence' is now deprecated. This value is automatically set up.\n",
      "Setting 'max_len_sentences_pair' is now deprecated. This value is automatically set up.\n",
      "Setting 'max_len_single_sentence' is now deprecated. This value is automatically set up.\n",
      "Setting 'max_len_sentences_pair' is now deprecated. This value is automatically set up.\n",
      "Setting 'max_len_single_sentence' is now deprecated. This value is automatically set up.\n",
      "Setting 'max_len_sentences_pair' is now deprecated. This value is automatically set up.\n",
      "Setting 'max_len_single_sentence' is now deprecated. This value is automatically set up.\n",
      "Setting 'max_len_sentences_pair' is now deprecated. This value is automatically set up.\n",
      "Setting 'max_len_single_sentence' is now deprecated. This value is automatically set up.\n",
      "Setting 'max_len_sentences_pair' is now deprecated. This value is automatically set up.\n",
      "Setting 'max_len_single_sentence' is now deprecated. This value is automatically set up.\n",
      "Setting 'max_len_sentences_pair' is now deprecated. This value is automatically set up.\n",
      "Setting 'max_len_single_sentence' is now deprecated. This value is automatically set up.\n",
      "Setting 'max_len_sentences_pair' is now deprecated. This value is automatically set up.\n",
      "/opt/anaconda3/envs/mbo/lib/python3.9/site-packages/sklearn/base.py:324: UserWarning: Trying to unpickle estimator DecisionTreeRegressor from version 0.23.1 when using version 1.0.1. This might lead to breaking code or invalid results. Use at your own risk. For more info please refer to:\n",
      "https://scikit-learn.org/stable/modules/model_persistence.html#security-maintainability-limitations\n",
      "  warnings.warn(\n",
      "/opt/anaconda3/envs/mbo/lib/python3.9/site-packages/sklearn/base.py:324: UserWarning: Trying to unpickle estimator RandomForestRegressor from version 0.23.1 when using version 1.0.1. This might lead to breaking code or invalid results. Use at your own risk. For more info please refer to:\n",
      "https://scikit-learn.org/stable/modules/model_persistence.html#security-maintainability-limitations\n",
      "  warnings.warn(\n"
     ]
    }
   ],
   "source": [
    "import design_bench\n",
    "task = design_bench.make('Superconductor-RandomForest-v0')\n",
    "y = task.dataset.normalize_y(task.dataset.y)\n",
    "x = task.dataset.normalize_x(task.dataset.x)\n",
    "\n"
   ]
  },
  {
   "cell_type": "code",
   "execution_count": 196,
   "metadata": {},
   "outputs": [],
   "source": [
    "import matplotlib.pyplot as plt\n",
    "%run net\n",
    "torch.set_printoptions(sci_mode=False)\n",
    "np.set_printoptions(suppress = True)"
   ]
  },
  {
   "cell_type": "code",
   "execution_count": 197,
   "metadata": {},
   "outputs": [],
   "source": [
    "forward_model = ForwardModel(x.shape[1])\n",
    "com = ConservativeObjectiveModel(forward_model, noise_std = 0.2)\n",
    "coms = [ConservativeObjectiveModel(ForwardModel(x.shape[1]), noise_std = i*0.2) for i in range(5)]\n",
    "\n"
   ]
  },
  {
   "cell_type": "code",
   "execution_count": 201,
   "metadata": {
    "scrolled": true
   },
   "outputs": [
    {
     "name": "stdout",
     "output_type": "stream",
     "text": [
      "94.15628 53.84075 7.4805927\n"
     ]
    }
   ],
   "source": [
    "\n",
    "#com.train(x, y)\n",
    "optimized = com.optimize(torch.Tensor(x[:2000]), 30, verbose = False)\n",
    "score = task.predict(task.denormalize_x(optimized.numpy()))\n",
    "original_score = task.predict(task.denormalize_x(x[:2000]))\n",
    "print(score.max(), score.mean(), score.min())"
   ]
  },
  {
   "cell_type": "code",
   "execution_count": 200,
   "metadata": {},
   "outputs": [
    {
     "data": {
      "text/plain": [
       "array([[36.456417 ],\n",
       "       [35.127163 ],\n",
       "       [36.08505  ],\n",
       "       ...,\n",
       "       [ 7.4805927],\n",
       "       [75.569115 ],\n",
       "       [76.12155  ]], dtype=float32)"
      ]
     },
     "execution_count": 200,
     "metadata": {},
     "output_type": "execute_result"
    }
   ],
   "source": [
    "original_score"
   ]
  },
  {
   "cell_type": "code",
   "execution_count": 192,
   "metadata": {},
   "outputs": [
    {
     "data": {
      "text/plain": [
       "tensor([    -0.0039,     -0.0019,      0.0040,      0.0040,      0.0619,\n",
       "             0.0632,     -0.0002,      0.0035,      0.0052,      0.0073,\n",
       "             0.0093,      0.0115,      0.0157,      0.0196,      0.0114,\n",
       "             0.0102,      0.0093,      0.0082,      0.0071,     -0.0302,\n",
       "            -0.0688,      0.0239,      0.0273,      0.0309,     -0.0030,\n",
       "            -0.0023,     -0.0015,     -0.0023,      0.0000,     -0.0026,\n",
       "            -0.0012,      0.0003,     -0.0688,      0.0712,      0.0546,\n",
       "            -0.0619,     -0.0591,     -0.0584,     -0.0641,     -0.0079,\n",
       "            -0.0086,     -0.0107,     -0.0099,     -0.0116,     -0.0135,\n",
       "            -0.0099,     -0.0023,      0.0404,      0.0169,      0.0330,\n",
       "             0.0352,     -0.0672,     -0.0668,     -0.0667,     -0.0662,\n",
       "            -0.0659,     -0.0670,     -0.0660,     -0.0657,     -0.0637,\n",
       "            -0.0679,     -0.0020,     -0.0677,     -0.0675,     -0.0672,\n",
       "            -0.0670,     -0.0668,     -0.0667,     -0.0665,     -0.0663,\n",
       "            -0.0659,     -0.0656,     -0.0652,     -0.0647,     -0.0639,\n",
       "            -0.0631,     -0.0624,     -0.0672,     -0.0669,     -0.0666,\n",
       "            -0.0665,     -0.0662,     -0.0659,      0.0044,      0.0026,\n",
       "             0.0009,     -0.0004,      0.0231,     -0.0361,      0.0064,\n",
       "            -0.0548,     -0.0548,     -0.0548,      0.0296,     -0.0299,\n",
       "             0.0198,      0.2630,      0.0085,     -0.0041,     -0.0099,\n",
       "             0.0051,      0.0354,     -0.0252,     -0.0242,     -0.0223,\n",
       "            -0.0202,     -0.0267,     -0.0262,     -0.0257,     -0.0251,\n",
       "            -0.0244,     -0.0669,     -0.0665,     -0.0675,     -0.0656,\n",
       "             0.0082,      0.0085,      0.0086,      0.0220,      0.0418,\n",
       "             0.0506,      0.0544,      0.0565,      0.0572,      0.0567,\n",
       "             0.0561,      0.0551,      0.0541])"
      ]
     },
     "execution_count": 192,
     "metadata": {},
     "output_type": "execute_result"
    }
   ],
   "source": [
    "original_score\n"
   ]
  },
  {
   "cell_type": "code",
   "execution_count": 123,
   "metadata": {},
   "outputs": [
    {
     "name": "stdout",
     "output_type": "stream",
     "text": [
      "tensor([[-0.0161],\n",
      "        [-0.0237],\n",
      "        [-0.0156],\n",
      "        [-0.0160],\n",
      "        [-0.0165],\n",
      "        [-0.0183],\n",
      "        [-0.0284],\n",
      "        [-0.0157],\n",
      "        [-0.0160],\n",
      "        [-0.0162]], grad_fn=<NegBackward0>)\n",
      "loss: -0.018242325633764267\n",
      "L1NORM tensor(8.2624)\n",
      "tensor([[-0.0166],\n",
      "        [-0.0242],\n",
      "        [-0.0161],\n",
      "        [-0.0165],\n",
      "        [-0.0170],\n",
      "        [-0.0188],\n",
      "        [-0.0290],\n",
      "        [-0.0162],\n",
      "        [-0.0166],\n",
      "        [-0.0168]], grad_fn=<NegBackward0>)\n",
      "loss: -0.018775176256895065\n",
      "L1NORM tensor(8.2701)\n",
      "tensor([[-0.0171],\n",
      "        [-0.0247],\n",
      "        [-0.0166],\n",
      "        [-0.0170],\n",
      "        [-0.0176],\n",
      "        [-0.0193],\n",
      "        [-0.0296],\n",
      "        [-0.0168],\n",
      "        [-0.0171],\n",
      "        [-0.0173]], grad_fn=<NegBackward0>)\n",
      "loss: -0.01930355839431286\n",
      "L1NORM tensor(8.2777)\n",
      "tensor([[-0.0176],\n",
      "        [-0.0253],\n",
      "        [-0.0171],\n",
      "        [-0.0175],\n",
      "        [-0.0181],\n",
      "        [-0.0198],\n",
      "        [-0.0302],\n",
      "        [-0.0173],\n",
      "        [-0.0176],\n",
      "        [-0.0179]], grad_fn=<NegBackward0>)\n",
      "loss: -0.019829975441098213\n",
      "L1NORM tensor(8.2854)\n",
      "tensor([[-0.0181],\n",
      "        [-0.0258],\n",
      "        [-0.0176],\n",
      "        [-0.0180],\n",
      "        [-0.0186],\n",
      "        [-0.0203],\n",
      "        [-0.0307],\n",
      "        [-0.0178],\n",
      "        [-0.0181],\n",
      "        [-0.0184]], grad_fn=<NegBackward0>)\n",
      "loss: -0.020354993641376495\n",
      "L1NORM tensor(8.2930)\n",
      "tensor([[-0.0186],\n",
      "        [-0.0263],\n",
      "        [-0.0181],\n",
      "        [-0.0185],\n",
      "        [-0.0191],\n",
      "        [-0.0208],\n",
      "        [-0.0313],\n",
      "        [-0.0183],\n",
      "        [-0.0187],\n",
      "        [-0.0190]], grad_fn=<NegBackward0>)\n",
      "loss: -0.02087065950036049\n",
      "L1NORM tensor(8.3005)\n",
      "tensor([[-0.0190],\n",
      "        [-0.0269],\n",
      "        [-0.0186],\n",
      "        [-0.0189],\n",
      "        [-0.0197],\n",
      "        [-0.0213],\n",
      "        [-0.0318],\n",
      "        [-0.0189],\n",
      "        [-0.0192],\n",
      "        [-0.0196]], grad_fn=<NegBackward0>)\n",
      "loss: -0.02138686552643776\n",
      "L1NORM tensor(8.3078)\n",
      "tensor([[-0.0195],\n",
      "        [-0.0274],\n",
      "        [-0.0191],\n",
      "        [-0.0194],\n",
      "        [-0.0202],\n",
      "        [-0.0218],\n",
      "        [-0.0324],\n",
      "        [-0.0194],\n",
      "        [-0.0197],\n",
      "        [-0.0201]], grad_fn=<NegBackward0>)\n",
      "loss: -0.021905075758695602\n",
      "L1NORM tensor(8.3151)\n",
      "tensor([[-0.0200],\n",
      "        [-0.0279],\n",
      "        [-0.0196],\n",
      "        [-0.0199],\n",
      "        [-0.0208],\n",
      "        [-0.0223],\n",
      "        [-0.0329],\n",
      "        [-0.0199],\n",
      "        [-0.0202],\n",
      "        [-0.0207]], grad_fn=<NegBackward0>)\n",
      "loss: -0.022421617060899734\n",
      "L1NORM tensor(8.3223)\n",
      "tensor([[-0.0205],\n",
      "        [-0.0285],\n",
      "        [-0.0201],\n",
      "        [-0.0204],\n",
      "        [-0.0213],\n",
      "        [-0.0228],\n",
      "        [-0.0335],\n",
      "        [-0.0204],\n",
      "        [-0.0208],\n",
      "        [-0.0212]], grad_fn=<NegBackward0>)\n",
      "loss: -0.02293424680829048\n",
      "L1NORM tensor(8.3296)\n"
     ]
    },
    {
     "data": {
      "text/plain": [
       "(array([[14.495995],\n",
       "        [17.43238 ],\n",
       "        [15.08877 ],\n",
       "        [15.945444],\n",
       "        [14.950218],\n",
       "        [34.88053 ],\n",
       "        [52.59684 ],\n",
       "        [16.12035 ],\n",
       "        [18.54356 ],\n",
       "        [18.163774]], dtype=float32),\n",
       " 21.84736)"
      ]
     },
     "execution_count": 123,
     "metadata": {},
     "output_type": "execute_result"
    }
   ],
   "source": [
    "#optimized = com.optimize(torch.randn((128,x.shape[1])),10)\n",
    "optimized = coms[1].optimize(torch.Tensor(x[:10]), 10, verbose = True)\n",
    "\n",
    "task.predict(task.denormalize_x(optimized.numpy())),task.predict(task.denormalize_x(torch.Tensor(x[:10]))).mean()\n"
   ]
  },
  {
   "cell_type": "code",
   "execution_count": 122,
   "metadata": {},
   "outputs": [
    {
     "name": "stdout",
     "output_type": "stream",
     "text": [
      "tensor([[-0.0448],\n",
      "        [-0.0137],\n",
      "        [-0.0416],\n",
      "        [-0.0429],\n",
      "        [-0.0536],\n",
      "        [-0.1101],\n",
      "        [-0.3236],\n",
      "        [-0.0387],\n",
      "        [-0.0380],\n",
      "        [-0.0372]], grad_fn=<NegBackward0>)\n",
      "loss: -0.07441642135381699\n",
      "L1NORM tensor(8.2450)\n",
      "tensor([[-0.0457],\n",
      "        [-0.0155],\n",
      "        [-0.0419],\n",
      "        [-0.0434],\n",
      "        [-0.0576],\n",
      "        [-0.1225],\n",
      "        [-0.3426],\n",
      "        [-0.0388],\n",
      "        [-0.0381],\n",
      "        [-0.0374]], grad_fn=<NegBackward0>)\n",
      "loss: -0.07836107909679413\n",
      "L1NORM tensor(8.2349)\n",
      "tensor([[-0.0465],\n",
      "        [-0.0172],\n",
      "        [-0.0422],\n",
      "        [-0.0439],\n",
      "        [-0.0625],\n",
      "        [-0.1352],\n",
      "        [-0.3618],\n",
      "        [-0.0390],\n",
      "        [-0.0382],\n",
      "        [-0.0376]], grad_fn=<NegBackward0>)\n",
      "loss: -0.08242350071668625\n",
      "L1NORM tensor(8.2237)\n",
      "tensor([[-0.0474],\n",
      "        [-0.0189],\n",
      "        [-0.0425],\n",
      "        [-0.0444],\n",
      "        [-0.0681],\n",
      "        [-0.1483],\n",
      "        [-0.3813],\n",
      "        [-0.0391],\n",
      "        [-0.0383],\n",
      "        [-0.0378]], grad_fn=<NegBackward0>)\n",
      "loss: -0.08661419153213501\n",
      "L1NORM tensor(8.2115)\n",
      "tensor([[-0.0482],\n",
      "        [-0.0204],\n",
      "        [-0.0428],\n",
      "        [-0.0449],\n",
      "        [-0.0741],\n",
      "        [-0.1628],\n",
      "        [-0.4016],\n",
      "        [-0.0393],\n",
      "        [-0.0385],\n",
      "        [-0.0380]], grad_fn=<NegBackward0>)\n",
      "loss: -0.09105224907398224\n",
      "L1NORM tensor(8.1986)\n",
      "tensor([[-0.0491],\n",
      "        [-0.0219],\n",
      "        [-0.0431],\n",
      "        [-0.0454],\n",
      "        [-0.0803],\n",
      "        [-0.1779],\n",
      "        [-0.4224],\n",
      "        [-0.0394],\n",
      "        [-0.0386],\n",
      "        [-0.0382]], grad_fn=<NegBackward0>)\n",
      "loss: -0.09562276303768158\n",
      "L1NORM tensor(8.1847)\n",
      "tensor([[-0.0499],\n",
      "        [-0.0233],\n",
      "        [-0.0434],\n",
      "        [-0.0458],\n",
      "        [-0.0868],\n",
      "        [-0.1934],\n",
      "        [-0.4442],\n",
      "        [-0.0396],\n",
      "        [-0.0387],\n",
      "        [-0.0384]], grad_fn=<NegBackward0>)\n",
      "loss: -0.10034744441509247\n",
      "L1NORM tensor(8.1705)\n",
      "tensor([[-0.0507],\n",
      "        [-0.0247],\n",
      "        [-0.0437],\n",
      "        [-0.0463],\n",
      "        [-0.0935],\n",
      "        [-0.2090],\n",
      "        [-0.4659],\n",
      "        [-0.0397],\n",
      "        [-0.0388],\n",
      "        [-0.0385]], grad_fn=<NegBackward0>)\n",
      "loss: -0.1050899475812912\n",
      "L1NORM tensor(8.1556)\n",
      "tensor([[-0.0515],\n",
      "        [-0.0260],\n",
      "        [-0.0439],\n",
      "        [-0.0468],\n",
      "        [-0.1003],\n",
      "        [-0.2262],\n",
      "        [-0.4869],\n",
      "        [-0.0399],\n",
      "        [-0.0389],\n",
      "        [-0.0387]], grad_fn=<NegBackward0>)\n",
      "loss: -0.1099153384566307\n",
      "L1NORM tensor(8.1407)\n",
      "tensor([[-0.0523],\n",
      "        [-0.0273],\n",
      "        [-0.0443],\n",
      "        [-0.0473],\n",
      "        [-0.1073],\n",
      "        [-0.2435],\n",
      "        [-0.5077],\n",
      "        [-0.0400],\n",
      "        [-0.0391],\n",
      "        [-0.0389]], grad_fn=<NegBackward0>)\n",
      "loss: -0.1147545725107193\n",
      "L1NORM tensor(8.1247)\n",
      "tensor([[-0.0531],\n",
      "        [-0.0286],\n",
      "        [-0.0446],\n",
      "        [-0.0478],\n",
      "        [-0.1147],\n",
      "        [-0.2616],\n",
      "        [-0.5285],\n",
      "        [-0.0402],\n",
      "        [-0.0392],\n",
      "        [-0.0391]], grad_fn=<NegBackward0>)\n",
      "loss: -0.11973092705011368\n",
      "L1NORM tensor(8.1084)\n",
      "tensor([[-0.0539],\n",
      "        [-0.0297],\n",
      "        [-0.0450],\n",
      "        [-0.0484],\n",
      "        [-0.1225],\n",
      "        [-0.2795],\n",
      "        [-0.5489],\n",
      "        [-0.0403],\n",
      "        [-0.0393],\n",
      "        [-0.0392]], grad_fn=<NegBackward0>)\n",
      "loss: -0.1246771365404129\n",
      "L1NORM tensor(8.0911)\n",
      "tensor([[-0.0550],\n",
      "        [-0.0309],\n",
      "        [-0.0453],\n",
      "        [-0.0490],\n",
      "        [-0.1309],\n",
      "        [-0.2977],\n",
      "        [-0.5697],\n",
      "        [-0.0405],\n",
      "        [-0.0395],\n",
      "        [-0.0394]], grad_fn=<NegBackward0>)\n",
      "loss: -0.12977410852909088\n",
      "L1NORM tensor(8.0732)\n",
      "tensor([[-0.0562],\n",
      "        [-0.0320],\n",
      "        [-0.0457],\n",
      "        [-0.0495],\n",
      "        [-0.1406],\n",
      "        [-0.3170],\n",
      "        [-0.5898],\n",
      "        [-0.0406],\n",
      "        [-0.0396],\n",
      "        [-0.0396]], grad_fn=<NegBackward0>)\n",
      "loss: -0.13505111634731293\n",
      "L1NORM tensor(8.0548)\n",
      "tensor([[-0.0574],\n",
      "        [-0.0332],\n",
      "        [-0.0460],\n",
      "        [-0.0501],\n",
      "        [-0.1526],\n",
      "        [-0.3364],\n",
      "        [-0.6090],\n",
      "        [-0.0408],\n",
      "        [-0.0398],\n",
      "        [-0.0397]], grad_fn=<NegBackward0>)\n",
      "loss: -0.14049014449119568\n",
      "L1NORM tensor(8.0349)\n",
      "tensor([[-0.0595],\n",
      "        [-0.0345],\n",
      "        [-0.0464],\n",
      "        [-0.0506],\n",
      "        [-0.1663],\n",
      "        [-0.3568],\n",
      "        [-0.6280],\n",
      "        [-0.0409],\n",
      "        [-0.0399],\n",
      "        [-0.0399]], grad_fn=<NegBackward0>)\n",
      "loss: -0.1462731808423996\n",
      "L1NORM tensor(8.0138)\n",
      "tensor([[-0.0626],\n",
      "        [-0.0359],\n",
      "        [-0.0467],\n",
      "        [-0.0512],\n",
      "        [-0.1814],\n",
      "        [-0.3772],\n",
      "        [-0.6468],\n",
      "        [-0.0411],\n",
      "        [-0.0401],\n",
      "        [-0.0400]], grad_fn=<NegBackward0>)\n",
      "loss: -0.15228977799415588\n",
      "L1NORM tensor(7.9918)\n",
      "tensor([[-0.0665],\n",
      "        [-0.0372],\n",
      "        [-0.0470],\n",
      "        [-0.0517],\n",
      "        [-0.1965],\n",
      "        [-0.3987],\n",
      "        [-0.6637],\n",
      "        [-0.0412],\n",
      "        [-0.0402],\n",
      "        [-0.0402]], grad_fn=<NegBackward0>)\n",
      "loss: -0.15830108523368835\n",
      "L1NORM tensor(7.9690)\n",
      "tensor([[-0.0711],\n",
      "        [-0.0388],\n",
      "        [-0.0474],\n",
      "        [-0.0524],\n",
      "        [-0.2119],\n",
      "        [-0.4203],\n",
      "        [-0.6804],\n",
      "        [-0.0414],\n",
      "        [-0.0404],\n",
      "        [-0.0404]], grad_fn=<NegBackward0>)\n",
      "loss: -0.16443495452404022\n",
      "L1NORM tensor(7.9446)\n",
      "tensor([[-0.0762],\n",
      "        [-0.0410],\n",
      "        [-0.0477],\n",
      "        [-0.0531],\n",
      "        [-0.2289],\n",
      "        [-0.4427],\n",
      "        [-0.6967],\n",
      "        [-0.0416],\n",
      "        [-0.0405],\n",
      "        [-0.0405]], grad_fn=<NegBackward0>)\n",
      "loss: -0.17089039087295532\n",
      "L1NORM tensor(7.9203)\n"
     ]
    },
    {
     "data": {
      "text/plain": [
       "25.057636"
      ]
     },
     "execution_count": 122,
     "metadata": {},
     "output_type": "execute_result"
    }
   ],
   "source": [
    "optimized = com.optimize(torch.Tensor(x[:10]), 20, verbose = True)\n",
    "task.predict(task.denormalize_x(optimized.numpy())).mean()"
   ]
  },
  {
   "cell_type": "code",
   "execution_count": 75,
   "metadata": {},
   "outputs": [
    {
     "data": {
      "text/plain": [
       "(tensor(0.0070, grad_fn=<MeanBackward0>),\n",
       " tensor(0.0157, grad_fn=<MeanBackward0>))"
      ]
     },
     "execution_count": 75,
     "metadata": {},
     "output_type": "execute_result"
    }
   ],
   "source": [
    "com.forward_model(torch.Tensor(x)).mean(), com.forward_model(optimized).mean()"
   ]
  },
  {
   "cell_type": "code",
   "execution_count": 79,
   "metadata": {},
   "outputs": [
    {
     "data": {
      "text/plain": [
       "(tensor(0.1729), tensor(0.0003))"
      ]
     },
     "execution_count": 79,
     "metadata": {},
     "output_type": "execute_result"
    }
   ],
   "source": [
    "torch.norm(optimized.mean(0), p=1), torch.norm(torch.Tensor(x.mean(0)), p=1)"
   ]
  },
  {
   "cell_type": "code",
   "execution_count": 82,
   "metadata": {
    "scrolled": true
   },
   "outputs": [],
   "source": [
    "optimized_score = task.predict(task.denormalize_x(optimized.numpy()))\n",
    "regular_score = task.predict(task.denormalize_x(x))"
   ]
  },
  {
   "cell_type": "code",
   "execution_count": 85,
   "metadata": {},
   "outputs": [
    {
     "data": {
      "text/plain": [
       "(23.634367, 23.22664)"
      ]
     },
     "execution_count": 85,
     "metadata": {},
     "output_type": "execute_result"
    }
   ],
   "source": [
    "optimized_score.mean(), regular_score.mean()"
   ]
  },
  {
   "cell_type": "code",
   "execution_count": 78,
   "metadata": {},
   "outputs": [
    {
     "data": {
      "text/plain": [
       "array([ 0.00000132,  0.        , -0.00000185,  0.00000413,  0.00000266,\n",
       "       -0.00000076,  0.00000456,  0.00002543, -0.00000035,  0.        ,\n",
       "        0.00000373,  0.00000172, -0.00000471,  0.00000111,  0.00000174,\n",
       "       -0.00000752, -0.00000048,  0.        , -0.00000114, -0.00000001,\n",
       "       -0.00000305,  0.00000392,  0.00000326, -0.00000004, -0.00000088,\n",
       "       -0.00001846, -0.00000109,  0.00000134,  0.00000559, -0.0000003 ,\n",
       "       -0.00000136,  0.00000376,  0.00001609,  0.00000795, -0.00000084,\n",
       "        0.        ,  0.00000014, -0.00002085,  0.00001905,  0.00000282,\n",
       "       -0.00000164, -0.00000206, -0.00000145,  0.0000013 ,  0.00000227,\n",
       "        0.00000404, -0.00000052, -0.00000009, -0.00000084, -0.0000031 ,\n",
       "       -0.00000097, -0.00000131,  0.00000047,  0.        ,  0.00000185,\n",
       "       -0.00000727, -0.00000238,  0.00000424,  0.00000164,  0.00001004,\n",
       "        0.        ,  0.00000403, -0.00000611, -0.00000895, -0.00000115,\n",
       "       -0.00000087, -0.00000019,  0.00000044, -0.00000193, -0.00000073,\n",
       "        0.00000144,  0.00000105,  0.00000101,  0.00000091, -0.00000104,\n",
       "       -0.00000156,  0.00000155, -0.00000961,  0.0000028 , -0.00001087,\n",
       "        0.00001141, -0.00000114, -0.00001244,  0.        ,  0.        ,\n",
       "        0.        ], dtype=float32)"
      ]
     },
     "execution_count": 78,
     "metadata": {},
     "output_type": "execute_result"
    }
   ],
   "source": []
  },
  {
   "cell_type": "code",
   "execution_count": 56,
   "metadata": {},
   "outputs": [
    {
     "data": {
      "text/plain": [
       "23.22664"
      ]
     },
     "execution_count": 56,
     "metadata": {},
     "output_type": "execute_result"
    }
   ],
   "source": [
    "task.predict(task.denormalize_x(optimized.numpy())).mean()"
   ]
  },
  {
   "cell_type": "code",
   "execution_count": 58,
   "metadata": {},
   "outputs": [
    {
     "data": {
      "text/plain": [
       "tensor([[    -0.0702,      0.0000,     -0.1008,  ...,      0.0000,\n",
       "             -0.0000,      0.0000],\n",
       "        [    -0.0702,      0.0000,     -0.1008,  ...,     -0.0000,\n",
       "             -0.0000,      0.0000],\n",
       "        [    -0.0702,      0.0000,     -0.1008,  ...,     -0.0000,\n",
       "             -0.0000,      0.0000],\n",
       "        ...,\n",
       "        [    -0.0702,      0.0000,     -0.1008,  ...,     -0.0000,\n",
       "             -0.0000,      0.0000],\n",
       "        [    -0.0702,     -0.0000,     -0.1008,  ...,      0.0000,\n",
       "             -0.0000,      0.0000],\n",
       "        [    -0.0702,     -0.0000,     -0.1008,  ...,      0.0000,\n",
       "              0.0000,      0.0000]])"
      ]
     },
     "execution_count": 58,
     "metadata": {},
     "output_type": "execute_result"
    }
   ],
   "source": [
    "optimized"
   ]
  },
  {
   "cell_type": "code",
   "execution_count": 59,
   "metadata": {},
   "outputs": [
    {
     "data": {
      "text/plain": [
       "array([[-0.07024373,  0.        , -0.10082777, ...,  0.        ,\n",
       "         0.        ,  0.        ],\n",
       "       [-0.07024373,  0.        , -0.10082777, ...,  0.        ,\n",
       "         0.        ,  0.        ],\n",
       "       [-0.07024373,  0.        , -0.10082777, ...,  0.        ,\n",
       "         0.        ,  0.        ],\n",
       "       ...,\n",
       "       [-0.07024373,  0.        , -0.10082777, ...,  0.        ,\n",
       "         0.        ,  0.        ],\n",
       "       [-0.07024373,  0.        , -0.10082777, ...,  0.        ,\n",
       "         0.        ,  0.        ],\n",
       "       [-0.07024373,  0.        , -0.10082777, ...,  0.        ,\n",
       "         0.        ,  0.        ]], dtype=float32)"
      ]
     },
     "execution_count": 59,
     "metadata": {},
     "output_type": "execute_result"
    }
   ],
   "source": [
    "x"
   ]
  },
  {
   "cell_type": "code",
   "execution_count": null,
   "metadata": {},
   "outputs": [],
   "source": []
  },
  {
   "cell_type": "code",
   "execution_count": null,
   "metadata": {},
   "outputs": [],
   "source": []
  },
  {
   "cell_type": "code",
   "execution_count": null,
   "metadata": {},
   "outputs": [],
   "source": []
  },
  {
   "cell_type": "code",
   "execution_count": null,
   "metadata": {},
   "outputs": [],
   "source": []
  },
  {
   "cell_type": "code",
   "execution_count": null,
   "metadata": {},
   "outputs": [],
   "source": []
  },
  {
   "cell_type": "code",
   "execution_count": null,
   "metadata": {},
   "outputs": [],
   "source": []
  },
  {
   "cell_type": "code",
   "execution_count": null,
   "metadata": {},
   "outputs": [],
   "source": []
  },
  {
   "cell_type": "code",
   "execution_count": null,
   "metadata": {},
   "outputs": [],
   "source": []
  },
  {
   "cell_type": "code",
   "execution_count": null,
   "metadata": {},
   "outputs": [],
   "source": [
    "from sklearn.datasets import make_regression\n",
    "%run net\n",
    "np.set_printoptions(suppress = True)"
   ]
  },
  {
   "cell_type": "code",
   "execution_count": 2,
   "metadata": {},
   "outputs": [],
   "source": [
    "forward_model = ForwardModel(5)\n",
    "com = ConservativeObjectiveModel(forward_model)\n",
    "coms = [ConservativeObjectiveModel(ForwardModel(5)) for i in range(2)]\n",
    "true_forward_model = ForwardModel(5)\n",
    "true_com = ConservativeObjectiveModel(true_forward_model)"
   ]
  },
  {
   "cell_type": "code",
   "execution_count": 3,
   "metadata": {},
   "outputs": [],
   "source": [
    "x,y = make_regression(n_samples = 100000, n_features = 5)\n",
    "idx = np.argsort(y)\n",
    "x,y = x[idx], y[idx]\n",
    "\n",
    "train_idx = np.random.permutation(int(len(x)*0.8))[:1000]\n",
    "train_x, train_y = x[:int(len(x)*0.8)][train_idx], y[:int(len(y)*0.8)][train_idx]\n",
    "#test_x, test_y = x[int(len(x)*0.8):], y[int(len(y)*0.8):]\n",
    "\n"
   ]
  },
  {
   "cell_type": "code",
   "execution_count": 4,
   "metadata": {
    "scrolled": true
   },
   "outputs": [
    {
     "name": "stdout",
     "output_type": "stream",
     "text": [
      "{'mse': tensor(13811.4990, grad_fn=<MseLossBackward>), 'overestimation': tensor(0.0005), 'alpha': 5.0}\n",
      "{'mse': tensor(13257.0293, grad_fn=<MseLossBackward>), 'overestimation': tensor(0.1589), 'alpha': 5.0}\n",
      "{'mse': tensor(15094.2598, grad_fn=<MseLossBackward>), 'overestimation': tensor(0.7239), 'alpha': 5.0}\n",
      "{'mse': tensor(13589.7812, grad_fn=<MseLossBackward>), 'overestimation': tensor(1.9239), 'alpha': 5.0}\n",
      "{'mse': tensor(9512.5039, grad_fn=<MseLossBackward>), 'overestimation': tensor(3.8955), 'alpha': 5.0}\n",
      "{'mse': tensor(10158.1875, grad_fn=<MseLossBackward>), 'overestimation': tensor(7.1048), 'alpha': 5.0}\n",
      "{'mse': tensor(8720.2891, grad_fn=<MseLossBackward>), 'overestimation': tensor(11.7017), 'alpha': 5.0}\n",
      "{'mse': tensor(8778.6973, grad_fn=<MseLossBackward>), 'overestimation': tensor(17.6969), 'alpha': 5.0}\n",
      "{'mse': tensor(5120.6050, grad_fn=<MseLossBackward>), 'overestimation': tensor(25.6461), 'alpha': 5.0}\n",
      "{'mse': tensor(5978.0903, grad_fn=<MseLossBackward>), 'overestimation': tensor(36.0568), 'alpha': 5.0}\n",
      "{'mse': tensor(8041.8369, grad_fn=<MseLossBackward>), 'overestimation': tensor(47.8430), 'alpha': 5.0}\n",
      "{'mse': tensor(5775.0566, grad_fn=<MseLossBackward>), 'overestimation': tensor(62.7677), 'alpha': 5.0}\n",
      "{'mse': tensor(4431.6255, grad_fn=<MseLossBackward>), 'overestimation': tensor(76.4365), 'alpha': 5.0}\n",
      "{'mse': tensor(6429.2954, grad_fn=<MseLossBackward>), 'overestimation': tensor(90.0709), 'alpha': 5.0}\n",
      "{'mse': tensor(3834.5732, grad_fn=<MseLossBackward>), 'overestimation': tensor(110.1468), 'alpha': 5.0}\n",
      "{'mse': tensor(4046.8430, grad_fn=<MseLossBackward>), 'overestimation': tensor(103.9036), 'alpha': 5.0}\n",
      "{'mse': tensor(2550.5913, grad_fn=<MseLossBackward>), 'overestimation': tensor(114.9008), 'alpha': 5.0}\n",
      "{'mse': tensor(2800.4297, grad_fn=<MseLossBackward>), 'overestimation': tensor(121.9267), 'alpha': 5.0}\n",
      "{'mse': tensor(1693.9099, grad_fn=<MseLossBackward>), 'overestimation': tensor(122.3973), 'alpha': 5.0}\n",
      "{'mse': tensor(943.8209, grad_fn=<MseLossBackward>), 'overestimation': tensor(125.8611), 'alpha': 5.0}\n",
      "{'mse': tensor(883.7036, grad_fn=<MseLossBackward>), 'overestimation': tensor(145.8608), 'alpha': 5.0}\n",
      "{'mse': tensor(420.7204, grad_fn=<MseLossBackward>), 'overestimation': tensor(148.9296), 'alpha': 5.0}\n",
      "{'mse': tensor(360.8551, grad_fn=<MseLossBackward>), 'overestimation': tensor(151.3611), 'alpha': 5.0}\n",
      "{'mse': tensor(190.6711, grad_fn=<MseLossBackward>), 'overestimation': tensor(160.5910), 'alpha': 5.0}\n",
      "{'mse': tensor(183.5959, grad_fn=<MseLossBackward>), 'overestimation': tensor(180.9448), 'alpha': 5.0}\n",
      "{'mse': tensor(159.6903, grad_fn=<MseLossBackward>), 'overestimation': tensor(191.7494), 'alpha': 5.0}\n",
      "{'mse': tensor(192.0935, grad_fn=<MseLossBackward>), 'overestimation': tensor(159.3964), 'alpha': 5.0}\n",
      "{'mse': tensor(318.5311, grad_fn=<MseLossBackward>), 'overestimation': tensor(194.9809), 'alpha': 5.0}\n",
      "{'mse': tensor(485.9424, grad_fn=<MseLossBackward>), 'overestimation': tensor(214.8144), 'alpha': 5.0}\n",
      "{'mse': tensor(417.9033, grad_fn=<MseLossBackward>), 'overestimation': tensor(189.8176), 'alpha': 5.0}\n",
      "{'mse': tensor(435.8739, grad_fn=<MseLossBackward>), 'overestimation': tensor(191.0776), 'alpha': 5.0}\n",
      "{'mse': tensor(492.7158, grad_fn=<MseLossBackward>), 'overestimation': tensor(186.0307), 'alpha': 5.0}\n",
      "{'mse': tensor(362.3917, grad_fn=<MseLossBackward>), 'overestimation': tensor(185.6363), 'alpha': 5.0}\n",
      "{'mse': tensor(419.5589, grad_fn=<MseLossBackward>), 'overestimation': tensor(184.3230), 'alpha': 5.0}\n",
      "{'mse': tensor(341.9966, grad_fn=<MseLossBackward>), 'overestimation': tensor(178.6828), 'alpha': 5.0}\n",
      "{'mse': tensor(327.4292, grad_fn=<MseLossBackward>), 'overestimation': tensor(171.4239), 'alpha': 5.0}\n",
      "{'mse': tensor(256.1115, grad_fn=<MseLossBackward>), 'overestimation': tensor(163.6025), 'alpha': 5.0}\n",
      "{'mse': tensor(315.0378, grad_fn=<MseLossBackward>), 'overestimation': tensor(140.1975), 'alpha': 5.0}\n",
      "{'mse': tensor(283.9759, grad_fn=<MseLossBackward>), 'overestimation': tensor(143.3080), 'alpha': 5.0}\n",
      "{'mse': tensor(241.0967, grad_fn=<MseLossBackward>), 'overestimation': tensor(128.7860), 'alpha': 5.0}\n",
      "{'mse': tensor(147.5627, grad_fn=<MseLossBackward>), 'overestimation': tensor(135.1191), 'alpha': 5.0}\n",
      "{'mse': tensor(191.2026, grad_fn=<MseLossBackward>), 'overestimation': tensor(108.2645), 'alpha': 5.0}\n",
      "{'mse': tensor(220.0735, grad_fn=<MseLossBackward>), 'overestimation': tensor(132.7703), 'alpha': 5.0}\n",
      "{'mse': tensor(191.8708, grad_fn=<MseLossBackward>), 'overestimation': tensor(140.7357), 'alpha': 5.0}\n",
      "{'mse': tensor(333.6110, grad_fn=<MseLossBackward>), 'overestimation': tensor(106.0132), 'alpha': 5.0}\n",
      "{'mse': tensor(297.6955, grad_fn=<MseLossBackward>), 'overestimation': tensor(103.7307), 'alpha': 5.0}\n",
      "{'mse': tensor(247.5872, grad_fn=<MseLossBackward>), 'overestimation': tensor(131.3617), 'alpha': 5.0}\n",
      "{'mse': tensor(244.1812, grad_fn=<MseLossBackward>), 'overestimation': tensor(120.6840), 'alpha': 5.0}\n",
      "{'mse': tensor(401.1189, grad_fn=<MseLossBackward>), 'overestimation': tensor(86.9869), 'alpha': 5.0}\n",
      "{'mse': tensor(273.5634, grad_fn=<MseLossBackward>), 'overestimation': tensor(96.3975), 'alpha': 5.0}\n",
      "{'mse': tensor(210.7529, grad_fn=<MseLossBackward>), 'overestimation': tensor(135.6696), 'alpha': 5.0}\n",
      "{'mse': tensor(338.0782, grad_fn=<MseLossBackward>), 'overestimation': tensor(111.0961), 'alpha': 5.0}\n",
      "{'mse': tensor(313.0249, grad_fn=<MseLossBackward>), 'overestimation': tensor(122.4810), 'alpha': 5.0}\n",
      "{'mse': tensor(59.4863, grad_fn=<MseLossBackward>), 'overestimation': tensor(138.5689), 'alpha': 5.0}\n",
      "{'mse': tensor(200.7124, grad_fn=<MseLossBackward>), 'overestimation': tensor(128.7055), 'alpha': 5.0}\n",
      "{'mse': tensor(222.5451, grad_fn=<MseLossBackward>), 'overestimation': tensor(126.7261), 'alpha': 5.0}\n",
      "{'mse': tensor(272.9861, grad_fn=<MseLossBackward>), 'overestimation': tensor(123.4863), 'alpha': 5.0}\n",
      "{'mse': tensor(175.9955, grad_fn=<MseLossBackward>), 'overestimation': tensor(132.4103), 'alpha': 5.0}\n",
      "{'mse': tensor(72.2610, grad_fn=<MseLossBackward>), 'overestimation': tensor(137.6695), 'alpha': 5.0}\n",
      "{'mse': tensor(194.7979, grad_fn=<MseLossBackward>), 'overestimation': tensor(130.8458), 'alpha': 5.0}\n",
      "{'mse': tensor(249.7236, grad_fn=<MseLossBackward>), 'overestimation': tensor(125.2550), 'alpha': 5.0}\n",
      "{'mse': tensor(221.8879, grad_fn=<MseLossBackward>), 'overestimation': tensor(114.8160), 'alpha': 5.0}\n",
      "{'mse': tensor(158.7473, grad_fn=<MseLossBackward>), 'overestimation': tensor(113.1877), 'alpha': 5.0}\n",
      "{'mse': tensor(171.1299, grad_fn=<MseLossBackward>), 'overestimation': tensor(143.6642), 'alpha': 5.0}\n",
      "{'mse': tensor(139.1349, grad_fn=<MseLossBackward>), 'overestimation': tensor(124.6945), 'alpha': 5.0}\n",
      "{'mse': tensor(142.5872, grad_fn=<MseLossBackward>), 'overestimation': tensor(126.3615), 'alpha': 5.0}\n",
      "{'mse': tensor(197.3372, grad_fn=<MseLossBackward>), 'overestimation': tensor(130.9723), 'alpha': 5.0}\n",
      "{'mse': tensor(82.3952, grad_fn=<MseLossBackward>), 'overestimation': tensor(155.0432), 'alpha': 5.0}\n",
      "{'mse': tensor(69.6838, grad_fn=<MseLossBackward>), 'overestimation': tensor(155.7263), 'alpha': 5.0}\n",
      "{'mse': tensor(135.3357, grad_fn=<MseLossBackward>), 'overestimation': tensor(149.7005), 'alpha': 5.0}\n",
      "{'mse': tensor(165.3002, grad_fn=<MseLossBackward>), 'overestimation': tensor(130.7522), 'alpha': 5.0}\n",
      "{'mse': tensor(100.8726, grad_fn=<MseLossBackward>), 'overestimation': tensor(143.9952), 'alpha': 5.0}\n",
      "{'mse': tensor(126.1012, grad_fn=<MseLossBackward>), 'overestimation': tensor(155.4296), 'alpha': 5.0}\n",
      "{'mse': tensor(130.1625, grad_fn=<MseLossBackward>), 'overestimation': tensor(159.3395), 'alpha': 5.0}\n",
      "{'mse': tensor(131.9491, grad_fn=<MseLossBackward>), 'overestimation': tensor(117.6223), 'alpha': 5.0}\n",
      "{'mse': tensor(89.2271, grad_fn=<MseLossBackward>), 'overestimation': tensor(131.9172), 'alpha': 5.0}\n",
      "{'mse': tensor(84.0738, grad_fn=<MseLossBackward>), 'overestimation': tensor(142.5692), 'alpha': 5.0}\n",
      "{'mse': tensor(109.2359, grad_fn=<MseLossBackward>), 'overestimation': tensor(149.6700), 'alpha': 5.0}\n",
      "{'mse': tensor(130.4183, grad_fn=<MseLossBackward>), 'overestimation': tensor(139.5378), 'alpha': 5.0}\n",
      "{'mse': tensor(90.8845, grad_fn=<MseLossBackward>), 'overestimation': tensor(147.8395), 'alpha': 5.0}\n"
     ]
    },
    {
     "name": "stdout",
     "output_type": "stream",
     "text": [
      "{'mse': tensor(125.7550, grad_fn=<MseLossBackward>), 'overestimation': tensor(125.0283), 'alpha': 5.0}\n",
      "{'mse': tensor(100.0279, grad_fn=<MseLossBackward>), 'overestimation': tensor(134.5456), 'alpha': 5.0}\n",
      "{'mse': tensor(108.9880, grad_fn=<MseLossBackward>), 'overestimation': tensor(129.1352), 'alpha': 5.0}\n",
      "{'mse': tensor(92.6905, grad_fn=<MseLossBackward>), 'overestimation': tensor(133.3332), 'alpha': 5.0}\n",
      "{'mse': tensor(84.2779, grad_fn=<MseLossBackward>), 'overestimation': tensor(150.0678), 'alpha': 5.0}\n",
      "{'mse': tensor(142.9551, grad_fn=<MseLossBackward>), 'overestimation': tensor(154.4950), 'alpha': 5.0}\n",
      "{'mse': tensor(99.1402, grad_fn=<MseLossBackward>), 'overestimation': tensor(137.6774), 'alpha': 5.0}\n",
      "{'mse': tensor(76.9305, grad_fn=<MseLossBackward>), 'overestimation': tensor(137.5677), 'alpha': 5.0}\n",
      "{'mse': tensor(81.4514, grad_fn=<MseLossBackward>), 'overestimation': tensor(108.1444), 'alpha': 5.0}\n",
      "{'mse': tensor(67.5103, grad_fn=<MseLossBackward>), 'overestimation': tensor(155.5837), 'alpha': 5.0}\n",
      "{'mse': tensor(121.0404, grad_fn=<MseLossBackward>), 'overestimation': tensor(146.8064), 'alpha': 5.0}\n",
      "{'mse': tensor(30.0596, grad_fn=<MseLossBackward>), 'overestimation': tensor(152.4675), 'alpha': 5.0}\n",
      "{'mse': tensor(75.9747, grad_fn=<MseLossBackward>), 'overestimation': tensor(145.6970), 'alpha': 5.0}\n",
      "{'mse': tensor(120.6777, grad_fn=<MseLossBackward>), 'overestimation': tensor(125.6556), 'alpha': 5.0}\n",
      "{'mse': tensor(83.2903, grad_fn=<MseLossBackward>), 'overestimation': tensor(134.2313), 'alpha': 5.0}\n",
      "{'mse': tensor(72.0161, grad_fn=<MseLossBackward>), 'overestimation': tensor(151.7031), 'alpha': 5.0}\n",
      "{'mse': tensor(145.4477, grad_fn=<MseLossBackward>), 'overestimation': tensor(140.3950), 'alpha': 5.0}\n",
      "{'mse': tensor(101.7440, grad_fn=<MseLossBackward>), 'overestimation': tensor(117.7261), 'alpha': 5.0}\n",
      "{'mse': tensor(139.7972, grad_fn=<MseLossBackward>), 'overestimation': tensor(135.7848), 'alpha': 5.0}\n",
      "{'mse': tensor(143.2778, grad_fn=<MseLossBackward>), 'overestimation': tensor(130.2374), 'alpha': 5.0}\n",
      "{'mse': tensor(19130.8125, grad_fn=<MseLossBackward>), 'overestimation': tensor(0.0003), 'alpha': 5.0}\n",
      "{'mse': tensor(11187.5605, grad_fn=<MseLossBackward>), 'overestimation': tensor(0.1659), 'alpha': 5.0}\n",
      "{'mse': tensor(15886.5498, grad_fn=<MseLossBackward>), 'overestimation': tensor(0.7531), 'alpha': 5.0}\n",
      "{'mse': tensor(10918.2344, grad_fn=<MseLossBackward>), 'overestimation': tensor(1.8412), 'alpha': 5.0}\n",
      "{'mse': tensor(10347.2871, grad_fn=<MseLossBackward>), 'overestimation': tensor(3.8495), 'alpha': 5.0}\n",
      "{'mse': tensor(8395.9805, grad_fn=<MseLossBackward>), 'overestimation': tensor(7.2200), 'alpha': 5.0}\n",
      "{'mse': tensor(11730.0771, grad_fn=<MseLossBackward>), 'overestimation': tensor(11.5883), 'alpha': 5.0}\n",
      "{'mse': tensor(8921.3516, grad_fn=<MseLossBackward>), 'overestimation': tensor(18.3314), 'alpha': 5.0}\n",
      "{'mse': tensor(7780.3223, grad_fn=<MseLossBackward>), 'overestimation': tensor(27.3742), 'alpha': 5.0}\n",
      "{'mse': tensor(7957.8096, grad_fn=<MseLossBackward>), 'overestimation': tensor(38.3916), 'alpha': 5.0}\n",
      "{'mse': tensor(4703.3765, grad_fn=<MseLossBackward>), 'overestimation': tensor(51.6424), 'alpha': 5.0}\n",
      "{'mse': tensor(6601.3452, grad_fn=<MseLossBackward>), 'overestimation': tensor(63.1431), 'alpha': 5.0}\n",
      "{'mse': tensor(4756.6289, grad_fn=<MseLossBackward>), 'overestimation': tensor(79.3108), 'alpha': 5.0}\n",
      "{'mse': tensor(3623.4810, grad_fn=<MseLossBackward>), 'overestimation': tensor(90.2391), 'alpha': 5.0}\n",
      "{'mse': tensor(2936.7312, grad_fn=<MseLossBackward>), 'overestimation': tensor(106.9881), 'alpha': 5.0}\n",
      "{'mse': tensor(3459.5957, grad_fn=<MseLossBackward>), 'overestimation': tensor(108.0459), 'alpha': 5.0}\n",
      "{'mse': tensor(2808.8540, grad_fn=<MseLossBackward>), 'overestimation': tensor(110.8195), 'alpha': 5.0}\n",
      "{'mse': tensor(1859.0931, grad_fn=<MseLossBackward>), 'overestimation': tensor(123.1444), 'alpha': 5.0}\n",
      "{'mse': tensor(1331.5166, grad_fn=<MseLossBackward>), 'overestimation': tensor(140.0738), 'alpha': 5.0}\n",
      "{'mse': tensor(1011.1675, grad_fn=<MseLossBackward>), 'overestimation': tensor(128.8187), 'alpha': 5.0}\n",
      "{'mse': tensor(808.0942, grad_fn=<MseLossBackward>), 'overestimation': tensor(152.3253), 'alpha': 5.0}\n",
      "{'mse': tensor(477.4332, grad_fn=<MseLossBackward>), 'overestimation': tensor(158.9910), 'alpha': 5.0}\n",
      "{'mse': tensor(287.7812, grad_fn=<MseLossBackward>), 'overestimation': tensor(168.9174), 'alpha': 5.0}\n",
      "{'mse': tensor(247.9962, grad_fn=<MseLossBackward>), 'overestimation': tensor(171.7531), 'alpha': 5.0}\n",
      "{'mse': tensor(144.2510, grad_fn=<MseLossBackward>), 'overestimation': tensor(190.3566), 'alpha': 5.0}\n",
      "{'mse': tensor(166.4705, grad_fn=<MseLossBackward>), 'overestimation': tensor(160.5836), 'alpha': 5.0}\n",
      "{'mse': tensor(81.8197, grad_fn=<MseLossBackward>), 'overestimation': tensor(186.1546), 'alpha': 5.0}\n",
      "{'mse': tensor(311.1893, grad_fn=<MseLossBackward>), 'overestimation': tensor(199.7366), 'alpha': 5.0}\n",
      "{'mse': tensor(402.4880, grad_fn=<MseLossBackward>), 'overestimation': tensor(223.3903), 'alpha': 5.0}\n",
      "{'mse': tensor(356.0033, grad_fn=<MseLossBackward>), 'overestimation': tensor(180.5098), 'alpha': 5.0}\n",
      "{'mse': tensor(451.8641, grad_fn=<MseLossBackward>), 'overestimation': tensor(205.6586), 'alpha': 5.0}\n",
      "{'mse': tensor(258.1891, grad_fn=<MseLossBackward>), 'overestimation': tensor(180.9790), 'alpha': 5.0}\n",
      "{'mse': tensor(424.2155, grad_fn=<MseLossBackward>), 'overestimation': tensor(209.7692), 'alpha': 5.0}\n",
      "{'mse': tensor(338.0214, grad_fn=<MseLossBackward>), 'overestimation': tensor(177.3549), 'alpha': 5.0}\n",
      "{'mse': tensor(339.5514, grad_fn=<MseLossBackward>), 'overestimation': tensor(160.5358), 'alpha': 5.0}\n",
      "{'mse': tensor(338.4071, grad_fn=<MseLossBackward>), 'overestimation': tensor(161.9799), 'alpha': 5.0}\n",
      "{'mse': tensor(302.3346, grad_fn=<MseLossBackward>), 'overestimation': tensor(143.8077), 'alpha': 5.0}\n",
      "{'mse': tensor(236.3002, grad_fn=<MseLossBackward>), 'overestimation': tensor(141.0566), 'alpha': 5.0}\n",
      "{'mse': tensor(191.0011, grad_fn=<MseLossBackward>), 'overestimation': tensor(129.1625), 'alpha': 5.0}\n",
      "{'mse': tensor(186.7212, grad_fn=<MseLossBackward>), 'overestimation': tensor(141.0662), 'alpha': 5.0}\n",
      "{'mse': tensor(255.9884, grad_fn=<MseLossBackward>), 'overestimation': tensor(137.1168), 'alpha': 5.0}\n",
      "{'mse': tensor(326.0983, grad_fn=<MseLossBackward>), 'overestimation': tensor(115.8075), 'alpha': 5.0}\n",
      "{'mse': tensor(357.1175, grad_fn=<MseLossBackward>), 'overestimation': tensor(113.3001), 'alpha': 5.0}\n",
      "{'mse': tensor(266.8998, grad_fn=<MseLossBackward>), 'overestimation': tensor(102.3922), 'alpha': 5.0}\n",
      "{'mse': tensor(164.8245, grad_fn=<MseLossBackward>), 'overestimation': tensor(129.1902), 'alpha': 5.0}\n",
      "{'mse': tensor(143.0587, grad_fn=<MseLossBackward>), 'overestimation': tensor(136.3628), 'alpha': 5.0}\n",
      "{'mse': tensor(331.5792, grad_fn=<MseLossBackward>), 'overestimation': tensor(135.7938), 'alpha': 5.0}\n",
      "{'mse': tensor(348.0779, grad_fn=<MseLossBackward>), 'overestimation': tensor(113.0890), 'alpha': 5.0}\n",
      "{'mse': tensor(394.1322, grad_fn=<MseLossBackward>), 'overestimation': tensor(121.4150), 'alpha': 5.0}\n",
      "{'mse': tensor(375.2765, grad_fn=<MseLossBackward>), 'overestimation': tensor(108.5276), 'alpha': 5.0}\n",
      "{'mse': tensor(339.1211, grad_fn=<MseLossBackward>), 'overestimation': tensor(96.7201), 'alpha': 5.0}\n",
      "{'mse': tensor(228.6477, grad_fn=<MseLossBackward>), 'overestimation': tensor(124.2309), 'alpha': 5.0}\n",
      "{'mse': tensor(403.7042, grad_fn=<MseLossBackward>), 'overestimation': tensor(117.5743), 'alpha': 5.0}\n",
      "{'mse': tensor(247.4489, grad_fn=<MseLossBackward>), 'overestimation': tensor(116.1034), 'alpha': 5.0}\n",
      "{'mse': tensor(476.7771, grad_fn=<MseLossBackward>), 'overestimation': tensor(104.9135), 'alpha': 5.0}\n",
      "{'mse': tensor(244.7678, grad_fn=<MseLossBackward>), 'overestimation': tensor(118.2850), 'alpha': 5.0}\n",
      "{'mse': tensor(115.2384, grad_fn=<MseLossBackward>), 'overestimation': tensor(136.8472), 'alpha': 5.0}\n",
      "{'mse': tensor(115.1910, grad_fn=<MseLossBackward>), 'overestimation': tensor(151.3091), 'alpha': 5.0}\n",
      "{'mse': tensor(91.7884, grad_fn=<MseLossBackward>), 'overestimation': tensor(141.0400), 'alpha': 5.0}\n",
      "{'mse': tensor(119.6414, grad_fn=<MseLossBackward>), 'overestimation': tensor(137.2742), 'alpha': 5.0}\n"
     ]
    },
    {
     "name": "stdout",
     "output_type": "stream",
     "text": [
      "{'mse': tensor(43.9992, grad_fn=<MseLossBackward>), 'overestimation': tensor(157.2818), 'alpha': 5.0}\n",
      "{'mse': tensor(172.9973, grad_fn=<MseLossBackward>), 'overestimation': tensor(143.6460), 'alpha': 5.0}\n",
      "{'mse': tensor(171.4760, grad_fn=<MseLossBackward>), 'overestimation': tensor(119.0635), 'alpha': 5.0}\n",
      "{'mse': tensor(97.3410, grad_fn=<MseLossBackward>), 'overestimation': tensor(167.6306), 'alpha': 5.0}\n",
      "{'mse': tensor(131.4411, grad_fn=<MseLossBackward>), 'overestimation': tensor(156.7178), 'alpha': 5.0}\n",
      "{'mse': tensor(121.9466, grad_fn=<MseLossBackward>), 'overestimation': tensor(138.9362), 'alpha': 5.0}\n",
      "{'mse': tensor(111.4333, grad_fn=<MseLossBackward>), 'overestimation': tensor(135.9208), 'alpha': 5.0}\n",
      "{'mse': tensor(84.6831, grad_fn=<MseLossBackward>), 'overestimation': tensor(135.7294), 'alpha': 5.0}\n",
      "{'mse': tensor(123.0343, grad_fn=<MseLossBackward>), 'overestimation': tensor(141.3659), 'alpha': 5.0}\n",
      "{'mse': tensor(77.4936, grad_fn=<MseLossBackward>), 'overestimation': tensor(146.5001), 'alpha': 5.0}\n",
      "{'mse': tensor(54.6950, grad_fn=<MseLossBackward>), 'overestimation': tensor(151.9538), 'alpha': 5.0}\n",
      "{'mse': tensor(103.0442, grad_fn=<MseLossBackward>), 'overestimation': tensor(163.6406), 'alpha': 5.0}\n",
      "{'mse': tensor(74.1628, grad_fn=<MseLossBackward>), 'overestimation': tensor(158.7111), 'alpha': 5.0}\n",
      "{'mse': tensor(51.3530, grad_fn=<MseLossBackward>), 'overestimation': tensor(131.6498), 'alpha': 5.0}\n",
      "{'mse': tensor(102.4539, grad_fn=<MseLossBackward>), 'overestimation': tensor(153.4198), 'alpha': 5.0}\n",
      "{'mse': tensor(70.6579, grad_fn=<MseLossBackward>), 'overestimation': tensor(152.9731), 'alpha': 5.0}\n",
      "{'mse': tensor(56.6257, grad_fn=<MseLossBackward>), 'overestimation': tensor(163.5023), 'alpha': 5.0}\n",
      "{'mse': tensor(78.7262, grad_fn=<MseLossBackward>), 'overestimation': tensor(164.7321), 'alpha': 5.0}\n",
      "{'mse': tensor(143.8339, grad_fn=<MseLossBackward>), 'overestimation': tensor(137.8698), 'alpha': 5.0}\n",
      "{'mse': tensor(160.1539, grad_fn=<MseLossBackward>), 'overestimation': tensor(133.6371), 'alpha': 5.0}\n",
      "{'mse': tensor(100.4504, grad_fn=<MseLossBackward>), 'overestimation': tensor(149.9180), 'alpha': 5.0}\n",
      "{'mse': tensor(211.1983, grad_fn=<MseLossBackward>), 'overestimation': tensor(130.0418), 'alpha': 5.0}\n",
      "{'mse': tensor(80.6350, grad_fn=<MseLossBackward>), 'overestimation': tensor(139.8169), 'alpha': 5.0}\n",
      "{'mse': tensor(45.1210, grad_fn=<MseLossBackward>), 'overestimation': tensor(148.4756), 'alpha': 5.0}\n",
      "{'mse': tensor(119.4370, grad_fn=<MseLossBackward>), 'overestimation': tensor(130.0292), 'alpha': 5.0}\n",
      "{'mse': tensor(153.7200, grad_fn=<MseLossBackward>), 'overestimation': tensor(152.2341), 'alpha': 5.0}\n",
      "{'mse': tensor(90.2096, grad_fn=<MseLossBackward>), 'overestimation': tensor(135.3163), 'alpha': 5.0}\n",
      "{'mse': tensor(102.4663, grad_fn=<MseLossBackward>), 'overestimation': tensor(135.1738), 'alpha': 5.0}\n",
      "{'mse': tensor(142.2321, grad_fn=<MseLossBackward>), 'overestimation': tensor(143.5407), 'alpha': 5.0}\n",
      "{'mse': tensor(91.6068, grad_fn=<MseLossBackward>), 'overestimation': tensor(133.3972), 'alpha': 5.0}\n",
      "{'mse': tensor(121.2131, grad_fn=<MseLossBackward>), 'overestimation': tensor(126.0752), 'alpha': 5.0}\n",
      "{'mse': tensor(84.5591, grad_fn=<MseLossBackward>), 'overestimation': tensor(135.6832), 'alpha': 5.0}\n",
      "{'mse': tensor(39.9092, grad_fn=<MseLossBackward>), 'overestimation': tensor(121.3470), 'alpha': 5.0}\n",
      "{'mse': tensor(88.9972, grad_fn=<MseLossBackward>), 'overestimation': tensor(132.4741), 'alpha': 5.0}\n",
      "{'mse': tensor(103.3446, grad_fn=<MseLossBackward>), 'overestimation': tensor(130.6722), 'alpha': 5.0}\n",
      "{'mse': tensor(44.6298, grad_fn=<MseLossBackward>), 'overestimation': tensor(167.9786), 'alpha': 5.0}\n",
      "{'mse': tensor(40.2308, grad_fn=<MseLossBackward>), 'overestimation': tensor(142.2856), 'alpha': 5.0}\n",
      "{'mse': tensor(77.0463, grad_fn=<MseLossBackward>), 'overestimation': tensor(131.0652), 'alpha': 5.0}\n",
      "{'mse': tensor(89.4798, grad_fn=<MseLossBackward>), 'overestimation': tensor(130.0276), 'alpha': 5.0}\n",
      "{'mse': tensor(137.4512, grad_fn=<MseLossBackward>), 'overestimation': tensor(112.1869), 'alpha': 5.0}\n"
     ]
    }
   ],
   "source": [
    "#com.train(train_x,train_y, include_overestimation = False)\n",
    "for com in coms:\n",
    "    com.train(train_x,train_y, include_overestimation = True )\n",
    "    "
   ]
  },
  {
   "cell_type": "code",
   "execution_count": 12,
   "metadata": {
    "scrolled": true
   },
   "outputs": [
    {
     "name": "stdout",
     "output_type": "stream",
     "text": [
      "{'mse': tensor(8411.3311, grad_fn=<MseLossBackward>)}\n",
      "{'mse': tensor(8708.4609, grad_fn=<MseLossBackward>)}\n",
      "{'mse': tensor(5360.7773, grad_fn=<MseLossBackward>)}\n",
      "{'mse': tensor(4238.8398, grad_fn=<MseLossBackward>)}\n",
      "{'mse': tensor(3090.3479, grad_fn=<MseLossBackward>)}\n",
      "{'mse': tensor(1571.4000, grad_fn=<MseLossBackward>)}\n",
      "{'mse': tensor(811.1038, grad_fn=<MseLossBackward>)}\n",
      "{'mse': tensor(512.4186, grad_fn=<MseLossBackward>)}\n",
      "{'mse': tensor(208.4014, grad_fn=<MseLossBackward>)}\n",
      "{'mse': tensor(254.7813, grad_fn=<MseLossBackward>)}\n",
      "{'mse': tensor(349.7548, grad_fn=<MseLossBackward>)}\n",
      "{'mse': tensor(531.2640, grad_fn=<MseLossBackward>)}\n",
      "{'mse': tensor(754.1043, grad_fn=<MseLossBackward>)}\n",
      "{'mse': tensor(835.5645, grad_fn=<MseLossBackward>)}\n",
      "{'mse': tensor(846.0358, grad_fn=<MseLossBackward>)}\n",
      "{'mse': tensor(1280.5077, grad_fn=<MseLossBackward>)}\n",
      "{'mse': tensor(941.1556, grad_fn=<MseLossBackward>)}\n",
      "{'mse': tensor(1483.1779, grad_fn=<MseLossBackward>)}\n",
      "{'mse': tensor(1839.9669, grad_fn=<MseLossBackward>)}\n",
      "{'mse': tensor(913.3575, grad_fn=<MseLossBackward>)}\n",
      "{'mse': tensor(779.6982, grad_fn=<MseLossBackward>)}\n",
      "{'mse': tensor(582.4185, grad_fn=<MseLossBackward>)}\n",
      "{'mse': tensor(359.0400, grad_fn=<MseLossBackward>)}\n",
      "{'mse': tensor(469.9728, grad_fn=<MseLossBackward>)}\n",
      "{'mse': tensor(539.7909, grad_fn=<MseLossBackward>)}\n",
      "{'mse': tensor(390.5116, grad_fn=<MseLossBackward>)}\n",
      "{'mse': tensor(172.8159, grad_fn=<MseLossBackward>)}\n",
      "{'mse': tensor(80.7598, grad_fn=<MseLossBackward>)}\n",
      "{'mse': tensor(39.2593, grad_fn=<MseLossBackward>)}\n",
      "{'mse': tensor(104.7700, grad_fn=<MseLossBackward>)}\n",
      "{'mse': tensor(119.2795, grad_fn=<MseLossBackward>)}\n",
      "{'mse': tensor(141.0770, grad_fn=<MseLossBackward>)}\n",
      "{'mse': tensor(85.6650, grad_fn=<MseLossBackward>)}\n",
      "{'mse': tensor(81.2918, grad_fn=<MseLossBackward>)}\n",
      "{'mse': tensor(63.5455, grad_fn=<MseLossBackward>)}\n",
      "{'mse': tensor(103.0466, grad_fn=<MseLossBackward>)}\n",
      "{'mse': tensor(131.1233, grad_fn=<MseLossBackward>)}\n",
      "{'mse': tensor(157.3114, grad_fn=<MseLossBackward>)}\n",
      "{'mse': tensor(157.5531, grad_fn=<MseLossBackward>)}\n",
      "{'mse': tensor(112.5046, grad_fn=<MseLossBackward>)}\n",
      "{'mse': tensor(118.0845, grad_fn=<MseLossBackward>)}\n",
      "{'mse': tensor(72.3536, grad_fn=<MseLossBackward>)}\n",
      "{'mse': tensor(89.3727, grad_fn=<MseLossBackward>)}\n",
      "{'mse': tensor(102.9936, grad_fn=<MseLossBackward>)}\n",
      "{'mse': tensor(133.8651, grad_fn=<MseLossBackward>)}\n",
      "{'mse': tensor(115.9824, grad_fn=<MseLossBackward>)}\n",
      "{'mse': tensor(54.0179, grad_fn=<MseLossBackward>)}\n",
      "{'mse': tensor(23.5384, grad_fn=<MseLossBackward>)}\n",
      "{'mse': tensor(37.9850, grad_fn=<MseLossBackward>)}\n",
      "{'mse': tensor(19.1273, grad_fn=<MseLossBackward>)}\n",
      "{'mse': tensor(37.6626, grad_fn=<MseLossBackward>)}\n",
      "{'mse': tensor(42.1596, grad_fn=<MseLossBackward>)}\n",
      "{'mse': tensor(25.7225, grad_fn=<MseLossBackward>)}\n",
      "{'mse': tensor(32.6569, grad_fn=<MseLossBackward>)}\n",
      "{'mse': tensor(4.5742, grad_fn=<MseLossBackward>)}\n",
      "{'mse': tensor(8.8194, grad_fn=<MseLossBackward>)}\n",
      "{'mse': tensor(21.3675, grad_fn=<MseLossBackward>)}\n",
      "{'mse': tensor(23.7767, grad_fn=<MseLossBackward>)}\n",
      "{'mse': tensor(32.1841, grad_fn=<MseLossBackward>)}\n",
      "{'mse': tensor(16.4241, grad_fn=<MseLossBackward>)}\n",
      "{'mse': tensor(17.6076, grad_fn=<MseLossBackward>)}\n",
      "{'mse': tensor(17.1003, grad_fn=<MseLossBackward>)}\n",
      "{'mse': tensor(20.9451, grad_fn=<MseLossBackward>)}\n",
      "{'mse': tensor(19.0485, grad_fn=<MseLossBackward>)}\n",
      "{'mse': tensor(21.3046, grad_fn=<MseLossBackward>)}\n",
      "{'mse': tensor(12.0290, grad_fn=<MseLossBackward>)}\n",
      "{'mse': tensor(14.9063, grad_fn=<MseLossBackward>)}\n",
      "{'mse': tensor(13.1464, grad_fn=<MseLossBackward>)}\n",
      "{'mse': tensor(7.8791, grad_fn=<MseLossBackward>)}\n",
      "{'mse': tensor(11.7497, grad_fn=<MseLossBackward>)}\n",
      "{'mse': tensor(8.7094, grad_fn=<MseLossBackward>)}\n",
      "{'mse': tensor(11.2847, grad_fn=<MseLossBackward>)}\n",
      "{'mse': tensor(6.9953, grad_fn=<MseLossBackward>)}\n",
      "{'mse': tensor(5.7229, grad_fn=<MseLossBackward>)}\n",
      "{'mse': tensor(22.1260, grad_fn=<MseLossBackward>)}\n",
      "{'mse': tensor(3.1820, grad_fn=<MseLossBackward>)}\n",
      "{'mse': tensor(11.2781, grad_fn=<MseLossBackward>)}\n",
      "{'mse': tensor(9.1786, grad_fn=<MseLossBackward>)}\n",
      "{'mse': tensor(8.4908, grad_fn=<MseLossBackward>)}\n",
      "{'mse': tensor(8.1501, grad_fn=<MseLossBackward>)}\n",
      "{'mse': tensor(8.1682, grad_fn=<MseLossBackward>)}\n",
      "{'mse': tensor(2.9051, grad_fn=<MseLossBackward>)}\n",
      "{'mse': tensor(4.9687, grad_fn=<MseLossBackward>)}\n",
      "{'mse': tensor(4.1739, grad_fn=<MseLossBackward>)}\n",
      "{'mse': tensor(5.6395, grad_fn=<MseLossBackward>)}\n",
      "{'mse': tensor(5.3601, grad_fn=<MseLossBackward>)}\n",
      "{'mse': tensor(4.7656, grad_fn=<MseLossBackward>)}\n",
      "{'mse': tensor(7.2975, grad_fn=<MseLossBackward>)}\n",
      "{'mse': tensor(7.1153, grad_fn=<MseLossBackward>)}\n",
      "{'mse': tensor(12.2345, grad_fn=<MseLossBackward>)}\n",
      "{'mse': tensor(4.3259, grad_fn=<MseLossBackward>)}\n",
      "{'mse': tensor(3.3396, grad_fn=<MseLossBackward>)}\n",
      "{'mse': tensor(2.1904, grad_fn=<MseLossBackward>)}\n",
      "{'mse': tensor(2.5439, grad_fn=<MseLossBackward>)}\n",
      "{'mse': tensor(14.0748, grad_fn=<MseLossBackward>)}\n",
      "{'mse': tensor(2.8401, grad_fn=<MseLossBackward>)}\n",
      "{'mse': tensor(7.7729, grad_fn=<MseLossBackward>)}\n",
      "{'mse': tensor(7.5143, grad_fn=<MseLossBackward>)}\n",
      "{'mse': tensor(3.2560, grad_fn=<MseLossBackward>)}\n",
      "{'mse': tensor(11.3759, grad_fn=<MseLossBackward>)}\n"
     ]
    }
   ],
   "source": [
    "true_com.train(x, y, include_overestimation = False)"
   ]
  },
  {
   "cell_type": "code",
   "execution_count": 19,
   "metadata": {},
   "outputs": [
    {
     "name": "stdout",
     "output_type": "stream",
     "text": [
      "[tensor([ 2.1595, -0.1679,  3.9132,  3.8092,  3.8093]), tensor([ 2.0713, -0.1533,  4.0643,  3.8530,  3.7236])] [-0.05991553 -0.14841122  0.8203992  -0.68216624  0.1253908 ]\n",
      "[[tensor([181.6629], grad_fn=<AddBackward0>), tensor([183.1831], grad_fn=<AddBackward0>)], [tensor([153.9680], grad_fn=<AddBackward0>), tensor([154.9157], grad_fn=<AddBackward0>)]]\n",
      "[tensor([3.0222], grad_fn=<AddBackward0>), tensor([4.9883], grad_fn=<AddBackward0>)]\n"
     ]
    }
   ],
   "source": [
    "#ok so what data should I create\n",
    "\n",
    "#optimized = com.optimize(torch.Tensor(train_x)[1], 5)\n",
    "data = train_x[np.random.randint(len(train_x))]\n",
    "data2 = x[np.random.randint(len(x))]\n",
    "optimizeds = [com.optimize(torch.Tensor(data), 1) for com in coms]\n",
    "optimizeds2 = [com.optimize(torch.Tensor(data2), 1) for com in coms]\n",
    "print(optimizeds,data )\n",
    "print([[com.forward_model(optimized) for optimized in optimizeds] for com in coms])\n",
    "print([com.forward_model(torch.Tensor(data)) for com in coms])\n"
   ]
  },
  {
   "cell_type": "code",
   "execution_count": 27,
   "metadata": {},
   "outputs": [
    {
     "data": {
      "text/plain": [
       "(tensor([1434.7371], grad_fn=<AddBackward0>),\n",
       " tensor([714.9909], grad_fn=<AddBackward0>),\n",
       " tensor([0.9485], grad_fn=<AddBackward0>))"
      ]
     },
     "execution_count": 27,
     "metadata": {},
     "output_type": "execute_result"
    }
   ],
   "source": [
    "#optimized.numpy(), train_x[1]\n",
    "\n",
    "true_com.forward_model(optimized), com.forward_model(optimized), com.forward_model(torch.Tensor(train_x[1]))\n"
   ]
  },
  {
   "cell_type": "code",
   "execution_count": 33,
   "metadata": {},
   "outputs": [
    {
     "data": {
      "text/plain": [
       "[tensor([0.8712, 4.1272, 8.7194, 3.3702, 3.4038]),\n",
       " tensor([0.3229, 3.5796, 8.2993, 3.1487, 3.2242]),\n",
       " tensor([0.6474, 4.1637, 8.8097, 2.7789, 3.4378]),\n",
       " tensor([0.8759, 3.9037, 8.3088, 3.3622, 3.9043]),\n",
       " tensor([0.8492, 4.1504, 8.1052, 3.5822, 3.4224])]"
      ]
     },
     "execution_count": 33,
     "metadata": {},
     "output_type": "execute_result"
    }
   ],
   "source": [
    "optimizeds"
   ]
  },
  {
   "cell_type": "code",
   "execution_count": 51,
   "metadata": {},
   "outputs": [
    {
     "data": {
      "text/plain": [
       "0.7043290252080892"
      ]
     },
     "execution_count": 51,
     "metadata": {},
     "output_type": "execute_result"
    }
   ],
   "source": [
    "np.random.sample()"
   ]
  },
  {
   "cell_type": "code",
   "execution_count": 16,
   "metadata": {},
   "outputs": [
    {
     "data": {
      "text/plain": [
       "tensor([7.0065e-45, 0.0000e+00, 0.0000e+00])"
      ]
     },
     "execution_count": 16,
     "metadata": {},
     "output_type": "execute_result"
    }
   ],
   "source": [
    "torch.clone(torch.Tensor(3))"
   ]
  },
  {
   "cell_type": "code",
   "execution_count": null,
   "metadata": {},
   "outputs": [],
   "source": [
    "torch.clone()"
   ]
  }
 ],
 "metadata": {
  "kernelspec": {
   "display_name": "Python 3 (ipykernel)",
   "language": "python",
   "name": "python3"
  },
  "language_info": {
   "codemirror_mode": {
    "name": "ipython",
    "version": 3
   },
   "file_extension": ".py",
   "mimetype": "text/x-python",
   "name": "python",
   "nbconvert_exporter": "python",
   "pygments_lexer": "ipython3",
   "version": "3.9.7"
  }
 },
 "nbformat": 4,
 "nbformat_minor": 4
}
